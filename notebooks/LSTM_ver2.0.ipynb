{
 "cells": [
  {
   "cell_type": "markdown",
   "metadata": {},
   "source": [
    "# LSTM and Bidirectional LSTM Model\n",
    "**MIDS W210 Capstone | Find Your Rhythm**\n",
    "\n",
    "Database: mdb_idmt_egmd500 (all songs in mdb and idmt database, and 500 random songs from egmd database)"
   ]
  },
  {
   "cell_type": "code",
   "execution_count": 1,
   "metadata": {},
   "outputs": [],
   "source": [
    "from google.cloud import storage\n",
    "\n",
    "# Basic packages \n",
    "import pickle\n",
    "import librosa\n",
    "import IPython.display as ipd\n",
    "import numpy as np\n",
    "from os import listdir\n",
    "import os\n",
    "import sys\n",
    "import math\n",
    "import random\n",
    "\n",
    "# Plot Package\n",
    "%matplotlib inline\n",
    "import matplotlib.pyplot as plt\n",
    "import librosa.display\n",
    "from IPython.display import clear_output\n",
    "\n",
    "# Model Package\n",
    "from keras.preprocessing import sequence\n",
    "from keras.utils import np_utils\n",
    "from keras.models import Sequential,load_model\n",
    "from keras.layers import Dense, Dropout, Activation,LSTM, TimeDistributed, Bidirectional\n",
    "from keras.regularizers import l2\n",
    "from keras import callbacks\n",
    "from keras.callbacks import History, ModelCheckpoint, EarlyStopping\n",
    "from sklearn.metrics import classification_report"
   ]
  },
  {
   "cell_type": "markdown",
   "metadata": {},
   "source": [
    "## 1. Load Data and Lables"
   ]
  },
  {
   "cell_type": "markdown",
   "metadata": {},
   "source": [
    "1. Create a function to load data from bucket to virtual machine\n",
    "    * Bucket name: model_input_1\n",
    "    * GCP_Folder in Bucket: mdb_idmt-only/\n",
    "    * VM Folder Name: model_input/\n"
   ]
  },
  {
   "cell_type": "code",
   "execution_count": 2,
   "metadata": {},
   "outputs": [],
   "source": [
    "def loadfile(bucket, gcp_filepath, VM_filepath):\n",
    "    \"\"\"\n",
    "    Loads n a np file from GCP bucket storage to VM\n",
    "    \n",
    "    Inputs:\n",
    "    bucket = str bucket name\n",
    "    gcp_filepath = filepath to file in bucket\n",
    "    VM_filepath = filepath in VM to store np data\n",
    "    \n",
    "    \"\"\"\n",
    "    from google.cloud import storage\n",
    "    import pickle as pkl\n",
    "    \n",
    "    # create storage client\n",
    "    storage_client = storage.Client()\n",
    "    # get bucket with name\n",
    "    bucket = storage_client.get_bucket(bucket)\n",
    "    # get bucket data as blob\n",
    "    blob = bucket.blob(gcp_filepath)\n",
    "    \n",
    "    with open(VM_filepath, \"wb\") as dest_file:\n",
    "        blob.download_to_file(dest_file)\n",
    "        \n"
   ]
  },
  {
   "cell_type": "markdown",
   "metadata": {},
   "source": [
    "2. Use the below data arrays to train NN models to identify drum instrument onsets in unseen audio data\n",
    "    * train_x.npy\n",
    "    * train_y.npy\n",
    "    * train_dict.pkl\n",
    "\n",
    "    * val_x.npy\n",
    "    * val_y.npy\n",
    "    * val_dict.pkl\n",
    "\n",
    "    * test_x.npy\n",
    "    * test_y.npy\n",
    "    * test_dict.pkl"
   ]
  },
  {
   "cell_type": "code",
   "execution_count": 3,
   "metadata": {},
   "outputs": [],
   "source": [
    "def loadArrays(dataset='train', bucket=None, gcp_folder=None, VM_folder=None, LoadFile=False):\n",
    "    \"\"\"\n",
    "    Inputs:\n",
    "    dataset = 'train', 'val', or 'test'\n",
    "\n",
    "    Outputs:\n",
    "    arr_x = input data\n",
    "    arr_y = input labels\n",
    "    arr_dict = lookup dict {initial frame : song name}\n",
    "    \"\"\"\n",
    "\n",
    "    datasets = {'train':['train_x.npy','train_y.npy','train_dict.pkl'],\n",
    "              'val':['val_x.npy','val_y.npy','val_dict.pkl'],\n",
    "              'test':['test_x.npy','test_y.npy','test_dict.pkl']}\n",
    "    \n",
    "    if LoadFile == True:\n",
    "        for i in range(len(datasets[dataset])):\n",
    "            loadfile(bucket, gcp_folder + datasets[dataset][i], VM_folder + datasets[dataset][i])\n",
    "            \n",
    "\n",
    "    arr_x = np.load(VM_folder + datasets[dataset][0])\n",
    "    arr_y = np.load(VM_folder + datasets[dataset][1])\n",
    "    with open(VM_folder + datasets[dataset][2], 'rb') as file:\n",
    "        arr_dict = pickle.load(file)\n",
    "    \n",
    "\n",
    "    return arr_x, arr_y, arr_dict"
   ]
  },
  {
   "cell_type": "code",
   "execution_count": 4,
   "metadata": {},
   "outputs": [
    {
     "name": "stdout",
     "output_type": "stream",
     "text": [
      "x_train =  (374745, 1025)\n",
      "y_train =  (374745, 19)\n",
      "x_val =  (174150, 1025)\n",
      "y_val =  (174150, 19)\n",
      "x_test =  (82775, 1025)\n",
      "y_test =  (82775, 19)\n"
     ]
    }
   ],
   "source": [
    "os.makedirs('model_input/mdb_idmt_egmd500/', exist_ok=True)\n",
    "\n",
    "x_train, y_train, train_dict = loadArrays('train', bucket='fyr-audio-data', gcp_folder='model_inputs/mdb_idmt_egmd500/', VM_folder='model_input/mdb_idmt_egmd500/')\n",
    "x_val, y_val, val_dict = loadArrays('val', bucket='fyr-audio-data', gcp_folder='model_inputs/mdb_idmt_egmd500/', VM_folder='model_input/mdb_idmt_egmd500/')\n",
    "x_test, y_test, test_dict = loadArrays('test', bucket='fyr-audio-data', gcp_folder='model_inputs/mdb_idmt_egmd500/', VM_folder='model_input/mdb_idmt_egmd500/')\n",
    "\n",
    "print(\"x_train = \", np.array(x_train).shape)\n",
    "print(\"y_train = \", np.array(y_train).shape)\n",
    "\n",
    "print(\"x_val = \", np.array(x_val).shape)\n",
    "print(\"y_val = \", np.array(y_val).shape)\n",
    "\n",
    "print(\"x_test = \", np.array(x_test).shape)\n",
    "print(\"y_test = \", np.array(y_test).shape)"
   ]
  },
  {
   "cell_type": "code",
   "execution_count": 5,
   "metadata": {},
   "outputs": [
    {
     "name": "stdout",
     "output_type": "stream",
     "text": [
      "[38, 35, 51, 42, 44, 37, 50, 43, 46, 54, 53, 49, 47, 39, 41, 56, 48, 52, 55]\n"
     ]
    }
   ],
   "source": [
    "file_name = 'labels.pkl'\n",
    "VM_folder = 'model_input/mdb_idmt_egmd500/'\n",
    "gcp_folder='model_inputs/mdb_idmt_egmd500/'\n",
    "loadfile('fyr-audio-data', gcp_folder + file_name,  VM_folder + file_name)\n",
    "with open(VM_folder + file_name, 'rb') as file:\n",
    "    dict_keys = pickle.load(file)\n",
    "print(dict_keys)"
   ]
  },
  {
   "cell_type": "code",
   "execution_count": 6,
   "metadata": {},
   "outputs": [
    {
     "data": {
      "text/plain": [
       "{0: 'raw-audio/eGMD/eGMD-wavfiles/drummer1_session1_191_reggae_78_fill_4-4_31.midi.wav',\n",
       " 430: 'raw-audio/eGMD/eGMD-wavfiles/drummer1_session1_266_funk-purdieshuffle_130_fill_4-4_17.midi.wav',\n",
       " 645: 'raw-audio/eGMD/eGMD-wavfiles/drummer1_session1_221_rock-halftime_140_fill_4-4_6.midi.wav',\n",
       " 860: 'raw-audio/eGMD/eGMD-wavfiles/drummer1_session2_131_afrocuban-bembe_122_fill_4-4_18.midi.wav',\n",
       " 2365: 'raw-audio/MDBDrums/MusicDelta_Shadows_Drum.wav',\n",
       " 2580: 'raw-audio/eGMD/eGMD-wavfiles/drummer1_session1_114_funk_95_fill_4-4_58.midi.wav',\n",
       " 3440: 'raw-audio/eGMD/eGMD-wavfiles/drummer1_session1_76_jazz-mediumfast_180_beat_4-4_51.midi.wav',\n",
       " 7955: 'raw-audio/MDBDrums/MusicDelta_ModalJazz_Drum.wav',\n",
       " 8170: 'raw-audio/eGMD/eGMD-wavfiles/drummer1_session1_237_rock-halftime_140_fill_4-4_32.midi.wav',\n",
       " 8385: 'raw-audio/eGMD/eGMD-wavfiles/drummer1_session1_164_latin-brazilian-baiao_95_fill_4-4_41.midi.wav',\n",
       " 8600: 'raw-audio/eGMD/eGMD-wavfiles/drummer1_session1_233_rock-halftime_140_fill_4-4_54.midi.wav',\n",
       " 25155: 'raw-audio/eGMD/eGMD-wavfiles/drummer1_session1_78_jazz-fast_290_beat_4-4_19.midi.wav',\n",
       " 25585: 'raw-audio/eGMD/eGMD-wavfiles/drummer1_session1_266_funk-purdieshuffle_130_fill_4-4_5.midi.wav',\n",
       " 26445: 'raw-audio/IDMT/RealDrum01_04#MIX.wav',\n",
       " 26660: 'raw-audio/eGMD/eGMD-wavfiles/drummer1_session1_209_rock-halftime_140_fill_4-4_36.midi.wav',\n",
       " 26875: 'raw-audio/eGMD/eGMD-wavfiles/drummer1_session1_119_funk_95_fill_4-4_1.midi.wav',\n",
       " 27520: 'raw-audio/IDMT/WaveDrum02_26#MIX.wav',\n",
       " 28165: 'raw-audio/IDMT/WaveDrum02_45#MIX.wav',\n",
       " 28380: 'raw-audio/eGMD/eGMD-wavfiles/drummer1_session1_194_reggae_78_fill_4-4_42.midi.wav',\n",
       " 28595: 'raw-audio/eGMD/eGMD-wavfiles/drummer1_session1_170_latin-brazilian-baiao_95_fill_4-4_52.midi.wav',\n",
       " 28810: 'raw-audio/eGMD/eGMD-wavfiles/drummer1_session2_13_country_114_fill_4-4_58.midi.wav',\n",
       " 29025: 'raw-audio/eGMD/eGMD-wavfiles/drummer1_session1_267_funk-purdieshuffle_130_fill_4-4_13.midi.wav',\n",
       " 29240: 'raw-audio/eGMD/eGMD-wavfiles/drummer1_session1_137_funk-fast_125_fill_4-4_54.midi.wav',\n",
       " 29885: 'raw-audio/IDMT/WaveDrum02_10#MIX.wav',\n",
       " 30100: 'raw-audio/eGMD/eGMD-wavfiles/drummer1_session1_187_reggae_78_fill_4-4_55.midi.wav',\n",
       " 30315: 'raw-audio/eGMD/eGMD-wavfiles/drummer1_session1_13_jazz-funk_116_fill_4-4_13.midi.wav',\n",
       " 30745: 'raw-audio/eGMD/eGMD-wavfiles/drummer1_session1_203_rock-halftime_140_fill_4-4_37.midi.wav',\n",
       " 31390: 'raw-audio/IDMT/WaveDrum02_18#MIX.wav',\n",
       " 31605: 'raw-audio/eGMD/eGMD-wavfiles/drummer1_session1_268_funk-purdieshuffle_130_fill_4-4_35.midi.wav',\n",
       " 35905: 'raw-audio/eGMD/eGMD-wavfiles/drummer1_session2_110_rock-prog_190_beat_4-4_10.midi.wav',\n",
       " 36335: 'raw-audio/eGMD/eGMD-wavfiles/drummer1_session1_231_rock-halftime_140_fill_4-4_55.midi.wav',\n",
       " 36550: 'raw-audio/eGMD/eGMD-wavfiles/drummer1_session1_141_funk-fast_125_fill_4-4_53.midi.wav',\n",
       " 36765: 'raw-audio/eGMD/eGMD-wavfiles/drummer1_session1_245_funk-purdieshuffle_130_fill_4-4_10.midi.wav',\n",
       " 46440: 'raw-audio/eGMD/eGMD-wavfiles/drummer1_session1_5_jazz-funk_116_beat_4-4_4.midi.wav',\n",
       " 50740: 'raw-audio/eGMD/eGMD-wavfiles/drummer1_session2_110_rock-prog_190_beat_4-4_41.midi.wav',\n",
       " 50955: 'raw-audio/eGMD/eGMD-wavfiles/drummer1_session1_144_funk-fast_125_fill_4-4_11.midi.wav',\n",
       " 51170: 'raw-audio/eGMD/eGMD-wavfiles/drummer1_session2_178_afrocuban-rhumba_110_fill_4-4_32.midi.wav',\n",
       " 51385: 'raw-audio/eGMD/eGMD-wavfiles/drummer1_session1_257_funk-purdieshuffle_130_fill_4-4_6.midi.wav',\n",
       " 52245: 'raw-audio/eGMD/eGMD-wavfiles/drummer1_session1_76_jazz-mediumfast_180_beat_4-4_42.midi.wav',\n",
       " 52460: 'raw-audio/eGMD/eGMD-wavfiles/drummer1_session2_127_afrocuban-bembe_122_fill_4-4_28.midi.wav',\n",
       " 54610: 'raw-audio/eGMD/eGMD-wavfiles/drummer1_eval_session_5_funk-groove5_84_beat_4-4_32.midi.wav',\n",
       " 54825: 'raw-audio/eGMD/eGMD-wavfiles/drummer1_session1_29_latin-samba_116_fill_4-4_41.midi.wav',\n",
       " 55040: 'raw-audio/eGMD/eGMD-wavfiles/drummer1_session1_54_jazz_125_fill_4-4_57.midi.wav',\n",
       " 55685: 'raw-audio/IDMT/WaveDrum02_13#MIX.wav',\n",
       " 67295: 'raw-audio/eGMD/eGMD-wavfiles/drummer1_session1_102_funk_95_beat_4-4_36.midi.wav',\n",
       " 69015: 'raw-audio/eGMD/eGMD-wavfiles/drummer1_session1_145_latin-brazilian-baiao_95_beat_4-4_55.midi.wav',\n",
       " 69660: 'raw-audio/IDMT/WaveDrum02_06#MIX.wav',\n",
       " 69875: 'raw-audio/eGMD/eGMD-wavfiles/drummer1_session1_159_latin-brazilian-baiao_95_fill_4-4_12.midi.wav',\n",
       " 70520: 'raw-audio/IDMT/WaveDrum02_41#MIX.wav',\n",
       " 74820: 'raw-audio/eGMD/eGMD-wavfiles/drummer1_session1_79_latin-reggaeton_90_beat_4-4_31.midi.wav',\n",
       " 75680: 'raw-audio/IDMT/RealDrum01_11#MIX.wav',\n",
       " 75895: 'raw-audio/eGMD/eGMD-wavfiles/drummer1_session1_178_afrocuban_105_fill_4-4_22.midi.wav',\n",
       " 76110: 'raw-audio/eGMD/eGMD-wavfiles/drummer1_session2_133_afrocuban-bembe_122_fill_4-4_57.midi.wav',\n",
       " 76325: 'raw-audio/eGMD/eGMD-wavfiles/drummer1_session1_188_reggae_78_fill_4-4_25.midi.wav',\n",
       " 76540: 'raw-audio/eGMD/eGMD-wavfiles/drummer1_session1_140_funk-fast_125_fill_4-4_57.midi.wav',\n",
       " 77400: 'raw-audio/IDMT/RealDrum01_00#MIX.wav',\n",
       " 79550: 'raw-audio/eGMD/eGMD-wavfiles/drummer1_eval_session_5_funk-groove5_84_beat_4-4_35.midi.wav',\n",
       " 79765: 'raw-audio/eGMD/eGMD-wavfiles/drummer1_session1_29_latin-samba_116_fill_4-4_55.midi.wav',\n",
       " 81485: 'raw-audio/MDBDrums/MusicDelta_SpeedMetal_Drum.wav',\n",
       " 81700: 'raw-audio/eGMD/eGMD-wavfiles/drummer1_session1_175_latin-brazilian-baiao_95_fill_4-4_14.midi.wav',\n",
       " 81915: 'raw-audio/eGMD/eGMD-wavfiles/drummer1_session1_53_jazz_125_fill_4-4_15.midi.wav',\n",
       " 82130: 'raw-audio/eGMD/eGMD-wavfiles/drummer1_session1_181_afrocuban_105_fill_4-4_58.midi.wav',\n",
       " 82560: 'raw-audio/eGMD/eGMD-wavfiles/drummer1_session1_205_rock-halftime_140_fill_4-4_25.midi.wav'}"
      ]
     },
     "execution_count": 6,
     "metadata": {},
     "output_type": "execute_result"
    }
   ],
   "source": [
    "test_dict"
   ]
  },
  {
   "cell_type": "markdown",
   "metadata": {},
   "source": [
    "3. Check instrument index in labels"
   ]
  },
  {
   "cell_type": "code",
   "execution_count": 7,
   "metadata": {},
   "outputs": [
    {
     "name": "stdout",
     "output_type": "stream",
     "text": [
      "['Acoustic Snare', 'Acoustic Bass Drum', 'Ride Cymbal 1', 'Closed Hi Hat', 'Pedal Hi-Hat', 'Side Stick', 'High Tom', 'High Floor Tom', 'Open Hi-Hat', 'Tambourine', 'Ride Bell', 'Crash Cymbal 1', 'Low-Mid Tom', 'Hand Clap', 'Low Floor Tom', 'Cowbell', 'Hi-Mid Tom', 'Chinese Cymbal', 'Splash Cymbal']\n"
     ]
    }
   ],
   "source": [
    "# Instrument pitch is ordered based on label counts collected in mdb and idmt database\n",
    "midi_classes = {35: 'Acoustic Bass Drum', 36: 'Bass Drum 1', 37: 'Side Stick', 38: 'Acoustic Snare', 39: 'Hand Clap', \n",
    "                40: 'Electric Snare', 41: 'Low Floor Tom', 42: 'Closed Hi Hat', 43: 'High Floor Tom', 44: 'Pedal Hi-Hat', \n",
    "                45: 'Low Tom', 46: 'Open Hi-Hat', 47: 'Low-Mid Tom', 48: 'Hi-Mid Tom', 49: 'Crash Cymbal 1', \n",
    "                50: 'High Tom',  51: 'Ride Cymbal 1', 52: 'Chinese Cymbal', 53: 'Ride Bell', 54: 'Tambourine', \n",
    "                55: 'Splash Cymbal', 56: 'Cowbell', 57: 'Crash Cymbal 2', 58: 'Vibraslap', 59: 'Ride Cymbal 2', \n",
    "                60: 'Hi Bongo', 61: 'Low Bongo', 62: 'Mute Hi Conga', 63: 'Open Hi Conga', 64: 'Low Conga', \n",
    "                65: 'High Timbale', 66: 'Low Timbale', 67: 'High Agogo', 68: 'Low Agogo', 69: 'Cabasa', \n",
    "                70: 'Maracas', 71: 'Short Whistle', 72: 'Long Whistle', 73: 'Short Guiro', 74: 'Long Guiro', \n",
    "                75: 'Claves', 76: 'Hi Wood Block', 77: 'Low Wood Block', 78: 'Mute Cuica', 79: 'Open Cuica', \n",
    "                80: 'Mute Triangle', 81: 'Open Triangle',\n",
    "               # to be removed\n",
    "                22: 'Unknown 22', 26: 'Unknown 26'\n",
    "               }\n",
    "\n",
    "inst_labels = []\n",
    "for inst_t in dict_keys:\n",
    "    inst_labels.append(midi_classes[inst_t])\n",
    "print(inst_labels)"
   ]
  },
  {
   "cell_type": "markdown",
   "metadata": {},
   "source": [
    "## 2. LSTM Model\n",
    "### 2.1 LSTM Basic Model\n",
    "1. Create a function (KerasSegmentGenerator) to cut frame to each time window (segment)\n",
    "2. Transform train, validation and test data into shape size (batch size, segment length, frequency bins)\n",
    "3. Train LSTM Model (7 labels:Acoustic Snare, Acoustic Bass Drum, Ride Cymbal 1, Closed Hi Hat, Pedal Hi-Hat, Side Stick, High Tom)"
   ]
  },
  {
   "cell_type": "markdown",
   "metadata": {},
   "source": [
    "1. Create a PlotLosses function which is used in model training to show dynamic loss graph during training process"
   ]
  },
  {
   "cell_type": "code",
   "execution_count": 8,
   "metadata": {},
   "outputs": [],
   "source": [
    "# Function to create a dynamic loss graph\n",
    "\n",
    "class PlotLosses(callbacks.Callback):\n",
    "    def on_train_begin(self, logs={}):\n",
    "        self.i = 0\n",
    "        self.x = []\n",
    "        self.losses = []\n",
    "        self.val_losses = []\n",
    "        \n",
    "        self.fig = plt.figure()\n",
    "        \n",
    "        self.logs = []\n",
    "\n",
    "    def on_epoch_end(self, epoch, logs={}):\n",
    "        \n",
    "        self.logs.append(logs)\n",
    "        self.x.append(self.i)\n",
    "        self.losses.append(logs.get('loss'))\n",
    "        self.val_losses.append(logs.get('val_loss'))\n",
    "        self.i += 1\n",
    "        \n",
    "        clear_output(wait=True)\n",
    "        plt.plot(self.x, self.losses, label=\"loss\")\n",
    "        plt.plot(self.x, self.val_losses, label=\"val_loss\")\n",
    "        plt.title('model binary entropy loss')\n",
    "        plt.ylabel('loss')\n",
    "        plt.xlabel('epoch')\n",
    "        plt.legend(['train', 'validation'], loc='upper right')\n",
    "        plt.show();\n",
    "        \n",
    "plot_losses = PlotLosses()"
   ]
  },
  {
   "cell_type": "markdown",
   "metadata": {},
   "source": [
    "2. Create a function (KerasSegmentGenerator) to cut frame to each time window (segment)"
   ]
  },
  {
   "cell_type": "code",
   "execution_count": 9,
   "metadata": {},
   "outputs": [],
   "source": [
    "class KerasSegmentGenerator(object):\n",
    "    def __init__(self, data, outcome, num_steps, num_features, num_class, skip_step=5):\n",
    "        self.data = data  #Train, validation, test dataset\n",
    "        self.outcome = outcome #Train, validation, test labels\n",
    "        self.num_steps = num_steps  # segment length\n",
    "        self.num_features = num_features # no of feature bins\n",
    "        self.num_class = num_class  # no of different Drum Instruments (3 DIs)\n",
    "        # this will track the progress of the batches sequentially through the\n",
    "        # data set - once the data reaches the end of the data set it will reset\n",
    "        # back to zero\n",
    "        self.current_idx = 0  # track progress of batches, once dataset reaches the end, it resets to zero\n",
    "        # THis determines overlap for two sequential segment, if skip step = num step, there is no overlap\n",
    "        self.skip_step = skip_step\n",
    "\n",
    "    def generate(self):\n",
    "        \"\"\"Output Train and Validation Dataset and Labels\n",
    "        Train Dataset Dimentsion: Batch Size, Segment Length, no of frequency bin\n",
    "        Train Label Dimension: Batch Size, Segment Length, no of drum instrument\"\"\"\n",
    "        self.interations = int(len(self.data)/self.num_steps)\n",
    "        self.x = np.zeros((self.interations, self.num_steps, self.num_features))\n",
    "        self.y = np.zeros((self.interations, self.num_steps, self.num_class))\n",
    "        \n",
    "        while True:\n",
    "            for i in range(self.interations):\n",
    "                if self.current_idx + self.num_steps >= len(self.data):\n",
    "                  # reset the index back to the start of the data set\n",
    "                   self.current_idx = 0\n",
    "                self.x[i, :, :] = self.data[self.current_idx:self.current_idx + self.num_steps]\n",
    "                self.y[i, :, :] = self.outcome[self.current_idx:self.current_idx + self.num_steps]\n",
    "                self.current_idx += self.skip_step\n",
    "            return self.x, self.y"
   ]
  },
  {
   "cell_type": "markdown",
   "metadata": {},
   "source": [
    "3. Transform train, validation and test data into shape size (batch size, segment length, frequency bins)"
   ]
  },
  {
   "cell_type": "code",
   "execution_count": 10,
   "metadata": {},
   "outputs": [
    {
     "name": "stdout",
     "output_type": "stream",
     "text": [
      "Train dataset shape: (1743, 215, 1025)\n",
      "Train label shape: (1743, 215, 7)\n",
      "Validation dataset shape: (810, 215, 1025)\n",
      "Validation label shape: (810, 215, 7)\n",
      "Test dataset shape: (385, 215, 1025)\n",
      "Test label shape: (385, 215, 7)\n"
     ]
    }
   ],
   "source": [
    "# npy arrays were created using segment length of 5 seconds\n",
    "# convert 5 seconds into frames (npy arrays are in frames)\n",
    "segmentLength = librosa.time_to_frames(5) \n",
    "\n",
    "# Number of drum instruments to study in model\n",
    "n_inst = 7\n",
    "\n",
    "train_segment_generator = KerasSegmentGenerator(x_train, y_train[:,0:n_inst], segmentLength, x_train.shape[1], y_train[:,0:n_inst].shape[1],\n",
    "                                           skip_step=segmentLength)\n",
    "val_segment_generator = KerasSegmentGenerator(x_val , y_val[:,0:n_inst], segmentLength, x_val.shape[1], y_val[:,0:n_inst].shape[1],\n",
    "                                           skip_step=segmentLength)\n",
    "test_segment_generator = KerasSegmentGenerator(x_test , y_test[:,0:n_inst], segmentLength, x_test.shape[1], y_test[:,0:n_inst].shape[1],\n",
    "                                           skip_step=segmentLength)\n",
    "\n",
    "trainx,trainy = train_segment_generator.generate()\n",
    "valx,valy = val_segment_generator.generate()\n",
    "testx,testy = test_segment_generator.generate()\n",
    "\n",
    "print('Train dataset shape:', trainx.shape)\n",
    "print('Train label shape:', trainy.shape)\n",
    "print('Validation dataset shape:', valx.shape)\n",
    "print('Validation label shape:', valy.shape)\n",
    "print('Test dataset shape:', testx.shape)\n",
    "print('Test label shape:', testy.shape)"
   ]
  },
  {
   "cell_type": "markdown",
   "metadata": {},
   "source": [
    "4. LSTM Model Training"
   ]
  },
  {
   "cell_type": "code",
   "execution_count": 12,
   "metadata": {},
   "outputs": [],
   "source": [
    "os.makedirs('model_log', exist_ok=True)\n",
    "File_Root = 'model_log/'"
   ]
  },
  {
   "cell_type": "code",
   "execution_count": 13,
   "metadata": {},
   "outputs": [
    {
     "data": {
      "image/png": "[encoded data removed]",
      "text/plain": [
       "<Figure size 432x288 with 1 Axes>"
      ]
     },
     "metadata": {
      "needs_background": "light"
     },
     "output_type": "display_data"
    },
    {
     "name": "stdout",
     "output_type": "stream",
     "text": [
      "88/88 [==============================] - 113s 1s/step - binary_crossentropy: 0.0019 - loss: 0.0019 - val_loss: 0.0188 - val_binary_crossentropy: 0.0188\n",
      "Epoch 00060: early stopping\n"
     ]
    }
   ],
   "source": [
    "'''###### TRAIN 1: LSTM - 2 layers - 500 unis per layer ######'''\n",
    "   \n",
    "database_name = 'mdb_idmt_egmd500'\n",
    "number_units = 500\n",
    "number_layers = 2\n",
    "number_classes = trainy.shape[2]\n",
    "num_epochs = 200\n",
    "batch_size = 20\n",
    "\n",
    "#Create a folder to restore the state and log file\n",
    "weights_dir = File_Root + 'LSTM_%s_BatchSize_%i_Layers_%i_Nodes_%i_Classes_%i'%(database_name, batch_size, number_layers, number_units, number_classes)\n",
    "if not os.path.exists(weights_dir):\n",
    "    os.makedirs(weights_dir)\n",
    "\n",
    "\n",
    "print ('Build model...')\n",
    "model = Sequential()\n",
    "history = History()\n",
    "\n",
    "print(\"Adding 1st layer of {} units\".format(number_units))\n",
    "model.add(LSTM(units=number_units, input_shape=(segmentLength,trainx.shape[2],), return_sequences=True))\n",
    "for i in range(number_layers-1):\n",
    "    print (\"Adding %d\" % (i+2) + \"th layer of %d\" % number_units + \" units\")\n",
    "    model.add(LSTM(number_units, return_sequences=True, activation='tanh'))\n",
    "    # a dropout layer to prevent overfitting.\n",
    "    model.add(Dropout(0.25))\n",
    "\n",
    "print(\"Adding classification layer\")\n",
    "# TimeDistributed adds an independent layer for each time step in the recurrent model. \n",
    "model.add(TimeDistributed(Dense(number_classes)))\n",
    "model.add(Activation('sigmoid'))\n",
    "\n",
    "# Compile model\n",
    "model.compile(loss='binary_crossentropy', optimizer='adam', metrics=['binary_crossentropy'])\n",
    "\n",
    "checkpointer = ModelCheckpoint(filepath= weights_dir + '/model-{epoch:02d}.hdf5', verbose=1, save_best_only=True)\n",
    "early = EarlyStopping(monitor='val_loss', min_delta=0, patience=20, verbose=1, mode='auto')\n",
    "\n",
    "training_log = open(weights_dir + \"/Training.log\", \"w\")\n",
    "print ('Train . . .')\n",
    "# let's say you have an ImageNet generat        print \"Fitting the batch :\"\n",
    "save = model.fit(trainx, trainy, batch_size = batch_size, validation_data=(valx, valy), epochs = num_epochs, verbose=1,callbacks=[checkpointer, early, plot_losses])\n",
    "training_log.write(str(save.history) + \"\\n\")\n",
    "training_log.close()"
   ]
  },
  {
   "cell_type": "markdown",
   "metadata": {},
   "source": [
    "5. Event Segmentation Method and Model Evaluation"
   ]
  },
  {
   "cell_type": "code",
   "execution_count": 14,
   "metadata": {},
   "outputs": [
    {
     "name": "stdout",
     "output_type": "stream",
     "text": [
      "Evaluate on test data\n",
      "20/20 [==============================] - 8s 387ms/step - binary_crossentropy: 0.0308 - loss: 0.0308\n",
      "test loss, test acc: [0.030810387805104256, 0.030810387805104256]\n",
      "                    precision    recall  f1-score   support\n",
      "\n",
      "    Acoustic Snare       0.91      0.65      0.76      2663\n",
      "Acoustic Bass Drum       0.89      0.84      0.87      1810\n",
      "     Ride Cymbal 1       0.86      0.75      0.80      2132\n",
      "     Closed Hi Hat       0.91      0.66      0.77      2203\n",
      "      Pedal Hi-Hat       0.92      0.65      0.76      1324\n",
      "        Side Stick       0.98      0.89      0.94       639\n",
      "          High Tom       0.93      0.79      0.85       305\n",
      "\n",
      "       avg / total       0.90      0.72      0.80     11076\n",
      "\n"
     ]
    }
   ],
   "source": [
    "database_name = 'mdb_idmt_egmd500'\n",
    "number_units = 500\n",
    "number_layers = 2\n",
    "number_classes = trainy.shape[2]\n",
    "num_epochs = 200\n",
    "batch_size = 20\n",
    "\n",
    "#Create a folder to restore the state and log file\n",
    "weights_dir = File_Root + 'LSTM_%s_BatchSize_%i_Layers_%i_Nodes_%i_Classes_%i'%(database_name, batch_size, number_layers, number_units, number_classes)\n",
    "model = load_model(weights_dir + \"/model-40.hdf5\")\n",
    "# model.summary()\n",
    "print(\"Evaluate on test data\")\n",
    "results = model.evaluate(testx, testy, batch_size=20)\n",
    "print(\"test loss, test acc:\", results)\n",
    "prediction = model.predict(testx)\n",
    "Threshold = 0.7\n",
    "prediction[prediction>Threshold] = 1\n",
    "prediction[prediction<=Threshold] = 0\n",
    "\n",
    "for i in range(prediction.shape[0]):\n",
    "    if i == 0:\n",
    "        prediction_concat = prediction[i, :, :]\n",
    "        testy_concat = testy[i, :, :]\n",
    "    else:\n",
    "        prediction_concat = np.concatenate((prediction_concat,prediction[i, :, :]))\n",
    "        testy_concat = np.concatenate((testy_concat,testy[i, :, :]))\n",
    "    \n",
    "    \n",
    "\n",
    "from sklearn.metrics import classification_report\n",
    "print(classification_report(testy_concat, prediction_concat, target_names=inst_labels[0:trainy.shape[2]]))"
   ]
  },
  {
   "cell_type": "code",
   "execution_count": 17,
   "metadata": {},
   "outputs": [
    {
     "name": "stdout",
     "output_type": "stream",
     "text": [
      "Evaluate on test data\n",
      "20/20 [==============================] - 8s 399ms/step - binary_crossentropy: 0.0308 - loss: 0.0308\n",
      "test loss, test acc: [0.030810387805104256, 0.030810387805104256]\n",
      "[0.5385193  0.4488132  0.48858458 0.49967942 0.2616413  0.15043058\n",
      " 0.06851204]\n",
      "                    precision    recall  f1-score   support\n",
      "\n",
      "    Acoustic Snare       0.89      0.69      0.78      2663\n",
      "Acoustic Bass Drum       0.88      0.86      0.87      1810\n",
      "     Ride Cymbal 1       0.85      0.77      0.81      2132\n",
      "     Closed Hi Hat       0.90      0.74      0.81      2203\n",
      "      Pedal Hi-Hat       0.83      0.67      0.74      1324\n",
      "        Side Stick       0.96      0.95      0.96       639\n",
      "          High Tom       0.88      0.89      0.88       305\n",
      "\n",
      "       avg / total       0.88      0.76      0.81     11076\n",
      "\n"
     ]
    }
   ],
   "source": [
    "model = load_model(weights_dir + \"/model-40.hdf5\")\n",
    "# model.summary()\n",
    "print(\"Evaluate on test data\")\n",
    "results = model.evaluate(testx, testy, batch_size=20)\n",
    "print(\"test loss, test acc:\", results)\n",
    "prediction = model.predict(testx)\n",
    "# Threshold = 0.9\n",
    "# prediction[prediction>Threshold] = 1\n",
    "# prediction[prediction<=Threshold] = 0\n",
    "\n",
    "for i in range(prediction.shape[0]):\n",
    "    if i == 0:\n",
    "        prediction_concat = prediction[i, :, :]\n",
    "        testy_concat = testy[i, :, :]\n",
    "    else:\n",
    "        prediction_concat = np.concatenate((prediction_concat,prediction[i, :, :]))\n",
    "        testy_concat = np.concatenate((testy_concat,testy[i, :, :]))\n",
    "        \n",
    "\n",
    "\n",
    "rate_lst = [20]\n",
    "\n",
    "for t in rate_lst:\n",
    "    T = t*np.mean(prediction_concat,axis = 0)\n",
    "    predicts =  np.zeros(prediction_concat.shape)\n",
    "    print(T)\n",
    "    for i in range(prediction_concat.shape[0]):\n",
    "        for j in range(prediction_concat.shape[1]):\n",
    "            if (i != 0) and (i != prediction_concat.shape[0]-1):\n",
    "                if (prediction_concat[i][j]>prediction_concat[i-1][j]) and (prediction_concat[i][j]>=prediction_concat[i+1][j]) and (prediction_concat[i][j]>T[j]):\n",
    "                    predicts[i][j] = 1\n",
    "                else:\n",
    "                    predicts[i][j] = 0\n",
    "            else:\n",
    "                predicts[i][j] = 0\n",
    "    \n",
    "    \n",
    "\n",
    "    from sklearn.metrics import classification_report\n",
    "    print(classification_report(testy_concat, predicts, target_names=inst_labels[0:trainy.shape[2]]))"
   ]
  },
  {
   "cell_type": "markdown",
   "metadata": {},
   "source": [
    "6. Separate prediction by songs and store true and predicted onset array separated by songs in 'testy_output.pkl' and 'predict_output.pkl'\n",
    "\n",
    "**Note:** The format is a dictionary: {song name: onset array}**"
   ]
  },
  {
   "cell_type": "code",
   "execution_count": 49,
   "metadata": {},
   "outputs": [],
   "source": [
    "Start_Frame = list(test_dict.keys())\n",
    "Start_Frame.sort()\n",
    "frame_index = 0\n",
    "predict_output_dict = {}\n",
    "testy_output_dict = {}\n",
    "while frame_index < (len(Start_Frame)):\n",
    "    if frame_index == (len(Start_Frame)-1):\n",
    "        predict_output_dict[test_dict[Start_Frame[frame_index]]] = predicts[Start_Frame[frame_index]:]\n",
    "        testy_output_dict[test_dict[Start_Frame[frame_index]]] = testy_concat[Start_Frame[frame_index]:]\n",
    "    else:\n",
    "        predict_output_dict[test_dict[Start_Frame[frame_index]]] = predicts[Start_Frame[frame_index]:Start_Frame[frame_index+1]]\n",
    "        testy_output_dict[test_dict[Start_Frame[frame_index]]] = testy_concat[Start_Frame[frame_index]:Start_Frame[frame_index+1]]\n",
    "    frame_index += 1"
   ]
  },
  {
   "cell_type": "code",
   "execution_count": 50,
   "metadata": {},
   "outputs": [],
   "source": [
    "OutputFile_Root = 'model_output/'\n",
    "output_folder = OutputFile_Root + 'LSTM_%s_BatchSize_%i_Layers_%i_Nodes_%i_Classes_%i/'%(database_name, batch_size, number_layers, number_units, number_classes)\n",
    "os.makedirs(output_folder, exist_ok=True)\n",
    "\n",
    "\n",
    "with open( output_folder + 'testy_output.pkl', 'wb') as file:\n",
    "    pickle.dump(testy_output_dict, file)\n",
    "    \n",
    "with open( output_folder + 'predict_output.pkl', 'wb') as file:\n",
    "    pickle.dump(predict_output_dict, file)"
   ]
  },
  {
   "cell_type": "markdown",
   "metadata": {},
   "source": [
    "6. plots for prediction and true onset comparison"
   ]
  },
  {
   "cell_type": "code",
   "execution_count": 51,
   "metadata": {},
   "outputs": [
    {
     "data": {
      "text/plain": [
       "<matplotlib.image.AxesImage at 0x7f5bcc52bb70>"
      ]
     },
     "execution_count": 51,
     "metadata": {},
     "output_type": "execute_result"
    },
    {
     "data": {
      "image/png": "[encoded data removed]",
      "text/plain": [
       "<Figure size 1440x864 with 2 Axes>"
      ]
     },
     "metadata": {
      "needs_background": "light"
     },
     "output_type": "display_data"
    }
   ],
   "source": [
    "a = testy_output_dict['raw-audio/eGMD/eGMD-wavfiles/drummer1_session1_205_rock-halftime_140_fill_4-4_25.midi.wav']\n",
    "b = predict_output_dict['raw-audio/eGMD/eGMD-wavfiles/drummer1_session1_205_rock-halftime_140_fill_4-4_25.midi.wav']\n",
    "fig, axes = plt.subplots(2,1, figsize=(20,12))\n",
    "axes[0].set_title('Bass Drum Onset from Drum Description')\n",
    "axes[0].imshow(a.transpose(),cmap='Greys',aspect='auto', interpolation = 'nearest')\n",
    "# axes[0].set_xticklabels(range(4950,5250,50))\n",
    "\n",
    "axes[1].set_title('Predicted Bass Drum Onset based on LSTM Model')\n",
    "axes[1].imshow(b.transpose(),cmap='Blues',aspect='auto', interpolation = 'nearest')\n",
    "# axes[1].set_xticklabels(range(4950,5250,50))"
   ]
  },
  {
   "cell_type": "code",
   "execution_count": 52,
   "metadata": {},
   "outputs": [
    {
     "name": "stdout",
     "output_type": "stream",
     "text": [
      "                    precision    recall  f1-score   support\n",
      "\n",
      "    Acoustic Snare       1.00      0.75      0.86         8\n",
      "Acoustic Bass Drum       0.00      0.00      0.00         0\n",
      "     Ride Cymbal 1       0.00      0.00      0.00         0\n",
      "     Closed Hi Hat       0.00      0.00      0.00         0\n",
      "      Pedal Hi-Hat       1.00      1.00      1.00         1\n",
      "        Side Stick       1.00      1.00      1.00         1\n",
      "          High Tom       1.00      1.00      1.00         7\n",
      "\n",
      "       avg / total       1.00      0.88      0.93        17\n",
      "\n"
     ]
    },
    {
     "name": "stderr",
     "output_type": "stream",
     "text": [
      "/usr/local/lib/python3.5/site-packages/sklearn/metrics/classification.py:1135: UndefinedMetricWarning: Precision and F-score are ill-defined and being set to 0.0 in labels with no predicted samples.\n",
      "  'precision', 'predicted', average, warn_for)\n",
      "/usr/local/lib/python3.5/site-packages/sklearn/metrics/classification.py:1137: UndefinedMetricWarning: Recall and F-score are ill-defined and being set to 0.0 in labels with no true samples.\n",
      "  'recall', 'true', average, warn_for)\n"
     ]
    }
   ],
   "source": [
    "print(classification_report(a, b, target_names=inst_labels[0:7]))\n"
   ]
  },
  {
   "cell_type": "code",
   "execution_count": 36,
   "metadata": {},
   "outputs": [
    {
     "data": {
      "text/plain": [
       "[Text(0, 0, '4950'),\n",
       " Text(0, 0, '5000'),\n",
       " Text(0, 0, '5050'),\n",
       " Text(0, 0, '5100'),\n",
       " Text(0, 0, '5150'),\n",
       " Text(0, 0, '5200')]"
      ]
     },
     "execution_count": 36,
     "metadata": {},
     "output_type": "execute_result"
    },
    {
     "data": {
      "image/png": "[encoded data removed]",
      "text/plain": [
       "<Figure size 1440x864 with 3 Axes>"
      ]
     },
     "metadata": {
      "needs_background": "light"
     },
     "output_type": "display_data"
    }
   ],
   "source": [
    "fig, axes = plt.subplots(3,1, figsize=(20,12))\n",
    "\n",
    "axes[0].set_title('Probability Wave from Activation Function')\n",
    "axes[0].scatter(x=range(5000,5250), y=prediction_concat[5000:5250,0])\n",
    "axes[0].set_xlim(5000,5250)\n",
    "\n"
   ]
  },
  {
   "cell_type": "markdown",
   "metadata": {},
   "source": [
    "## 2.2 Bidirectional LSTM Model\n",
    "Acoustic Snare, Acoustic Bass Drum, Ride Cymbal 1, Closed Hi Hat, Pedal Hi-Hat, Side Stick, High Tom"
   ]
  },
  {
   "cell_type": "code",
   "execution_count": 13,
   "metadata": {},
   "outputs": [
    {
     "data": {
      "image/png": "[encoded data removed]",
      "text/plain": [
       "<Figure size 432x288 with 1 Axes>"
      ]
     },
     "metadata": {
      "needs_background": "light"
     },
     "output_type": "display_data"
    },
    {
     "name": "stdout",
     "output_type": "stream",
     "text": [
      "88/88 [==============================] - 274s 3s/step - loss: 0.0011 - binary_crossentropy: 0.0011 - val_binary_crossentropy: 0.0123 - val_loss: 0.0123\n",
      "Epoch 00049: early stopping\n"
     ]
    }
   ],
   "source": [
    "'''###### TRAIN 2: Bidirectional LSTM - 2 layers - 500 unis per layer ######'''\n",
    "   \n",
    "database_name = 'mdb_idmt_egmd500'\n",
    "number_units = 500\n",
    "number_layers = 2\n",
    "number_classes = trainy.shape[2]\n",
    "num_epochs = 200\n",
    "batch_size = 20\n",
    "\n",
    "#Create a folder to restore the state and log file\n",
    "weights_dir = File_Root + 'BiLSTM_%s_BatchSize_%i_Layers_%i_Nodes_%i_Classes_%i'%(database_name, batch_size, number_layers, number_units, number_classes)\n",
    "if not os.path.exists(weights_dir):\n",
    "    os.makedirs(weights_dir)\n",
    "\n",
    "\n",
    "print ('Build model...')\n",
    "model = Sequential()\n",
    "history = History()\n",
    "\n",
    "print(\"Adding 1st layer of {} units\".format(number_units))\n",
    "model.add(Bidirectional(LSTM(units=number_units, input_shape=(segmentLength,trainx.shape[2],), return_sequences=True)))\n",
    "for i in range(number_layers-1):\n",
    "    print (\"Adding %d\" % (i+2) + \"th layer of %d\" % number_units + \" units\")\n",
    "    model.add(Bidirectional(LSTM(number_units, return_sequences=True, activation='tanh')))\n",
    "    # a dropout layer to prevent overfitting.\n",
    "    model.add(Dropout(0.25))\n",
    "\n",
    "print(\"Adding classification layer\")\n",
    "# TimeDistributed adds an independent layer for each time step in the recurrent model. \n",
    "model.add(TimeDistributed(Dense(number_classes)))\n",
    "model.add(Activation('sigmoid'))\n",
    "\n",
    "# Compile model\n",
    "model.compile(loss='binary_crossentropy', optimizer='adam', metrics=['binary_crossentropy'])\n",
    "\n",
    "checkpointer = ModelCheckpoint(filepath= weights_dir + '/model-{epoch:02d}.hdf5', verbose=1, save_best_only=True)\n",
    "early = EarlyStopping(monitor='val_loss', min_delta=0, patience=20, verbose=1, mode='auto')\n",
    "\n",
    "training_log = open(weights_dir + \"/Training.log\", \"w\")\n",
    "print ('Train . . .')\n",
    "# let's say you have an ImageNet generat        print \"Fitting the batch :\"\n",
    "save = model.fit(trainx, trainy, batch_size = batch_size, validation_data=(valx, valy), epochs = num_epochs, verbose=1,callbacks=[checkpointer, early, plot_losses])\n",
    "training_log.write(str(save.history) + \"\\n\")\n",
    "training_log.close()"
   ]
  },
  {
   "cell_type": "code",
   "execution_count": 15,
   "metadata": {},
   "outputs": [
    {
     "name": "stdout",
     "output_type": "stream",
     "text": [
      "Evaluate on test data\n",
      "20/20 [==============================] - 12s 617ms/step - loss: 0.0190 - binary_crossentropy: 0.0190\n",
      "test loss, test acc: [0.01904096081852913, 0.019040964543819427]\n",
      "[0.5987224  0.4469642  0.4616865  0.53795224 0.24821995 0.1530766\n",
      " 0.07400401]\n",
      "                    precision    recall  f1-score   support\n",
      "\n",
      "    Acoustic Snare       0.95      0.84      0.90      2663\n",
      "Acoustic Bass Drum       0.91      0.92      0.91      1810\n",
      "     Ride Cymbal 1       0.92      0.83      0.87      2132\n",
      "     Closed Hi Hat       0.91      0.87      0.89      2203\n",
      "      Pedal Hi-Hat       0.92      0.72      0.80      1324\n",
      "        Side Stick       0.97      0.95      0.96       639\n",
      "          High Tom       0.92      0.95      0.94       305\n",
      "\n",
      "       avg / total       0.93      0.85      0.89     11076\n",
      "\n"
     ]
    }
   ],
   "source": [
    "model = load_model(weights_dir + \"/model-29.hdf5\")\n",
    "# model.summary()\n",
    "print(\"Evaluate on test data\")\n",
    "results = model.evaluate(testx, testy, batch_size=20)\n",
    "print(\"test loss, test acc:\", results)\n",
    "prediction = model.predict(testx)\n",
    "# Threshold = 0.9\n",
    "# prediction[prediction>Threshold] = 1\n",
    "# prediction[prediction<=Threshold] = 0\n",
    "\n",
    "for i in range(prediction.shape[0]):\n",
    "    if i == 0:\n",
    "        prediction_concat = prediction[i, :, :]\n",
    "        testy_concat = testy[i, :, :]\n",
    "    else:\n",
    "        prediction_concat = np.concatenate((prediction_concat,prediction[i, :, :]))\n",
    "        testy_concat = np.concatenate((testy_concat,testy[i, :, :]))\n",
    "        \n",
    "\n",
    "\n",
    "rate_lst = [20]\n",
    "\n",
    "for t in rate_lst:\n",
    "    T = t*np.mean(prediction_concat,axis = 0)\n",
    "    predicts =  np.zeros(prediction_concat.shape)\n",
    "    print(T)\n",
    "    for i in range(prediction_concat.shape[0]):\n",
    "        for j in range(prediction_concat.shape[1]):\n",
    "            if (i != 0) and (i != prediction_concat.shape[0]-1):\n",
    "                if (prediction_concat[i][j]>prediction_concat[i-1][j]) and (prediction_concat[i][j]>=prediction_concat[i+1][j]) and (prediction_concat[i][j]>T[j]):\n",
    "                    predicts[i][j] = 1\n",
    "                else:\n",
    "                    predicts[i][j] = 0\n",
    "            else:\n",
    "                predicts[i][j] = 0\n",
    "    \n",
    "    \n",
    "\n",
    "    from sklearn.metrics import classification_report\n",
    "    print(classification_report(testy_concat, predicts, target_names=inst_labels[0:trainy.shape[2]]))"
   ]
  },
  {
   "cell_type": "markdown",
   "metadata": {},
   "source": [
    "Temperary Completed Point"
   ]
  },
  {
   "cell_type": "code",
   "execution_count": 61,
   "metadata": {},
   "outputs": [
    {
     "data": {
      "text/plain": [
       "<matplotlib.image.AxesImage at 0x7f3f54732080>"
      ]
     },
     "execution_count": 61,
     "metadata": {},
     "output_type": "execute_result"
    },
    {
     "data": {
      "image/png": "[encoded data removed]",
      "text/plain": [
       "<Figure size 1440x864 with 3 Axes>"
      ]
     },
     "metadata": {
      "needs_background": "light"
     },
     "output_type": "display_data"
    }
   ],
   "source": [
    "fig, axes = plt.subplots(3,1, figsize=(20,12))\n",
    "\n",
    "ints_idx = 1\n",
    "\n",
    "axes[0].set_title('Probability Wave from Activation Function')\n",
    "axes[0].scatter(x=range(0,860), y=prediction_concat[0:860,ints_idx])\n",
    "axes[0].set_xlim(0,860)\n",
    "\n",
    "axes[1].set_title('%s Onset from Drum Description'% (inst_labels[ints_idx]))\n",
    "axes[1].imshow(y_test[0:860,ints_idx:ints_idx+1].transpose(),cmap='Greys',aspect='auto', interpolation = 'nearest')\n",
    "# axes[1].set_xticklabels(range(4950,5250,50))\n",
    "\n",
    "axes[2].set_title('Predicted %s Onset based on LSTM Model'% (inst_labels[ints_idx]))\n",
    "axes[2].imshow(predicts[0:860,ints_idx:ints_idx+1].transpose(),cmap='Blues',aspect='auto', interpolation = 'nearest')\n",
    "# axes[2].set_xticklabels(range(4950,5250,50))"
   ]
  },
  {
   "cell_type": "code",
   "execution_count": 75,
   "metadata": {},
   "outputs": [
    {
     "data": {
      "text/plain": [
       "[Text(0, 0, ''),\n",
       " Text(0, 0, 'Closed Hi Hat'),\n",
       " Text(0, 0, 'Acoustic Bass Drum'),\n",
       " Text(0, 0, 'Acoustic Snare')]"
      ]
     },
     "execution_count": 75,
     "metadata": {},
     "output_type": "execute_result"
    },
    {
     "data": {
      "image/png": "[encoded data removed]",
      "text/plain": [
       "<Figure size 1440x864 with 3 Axes>"
      ]
     },
     "metadata": {
      "needs_background": "light"
     },
     "output_type": "display_data"
    }
   ],
   "source": [
    "fig, axes = plt.subplots(3,1, figsize=(20,12))\n",
    "\n",
    "ints_idx = 0\n",
    "ints_no = 3\n",
    "\n",
    "axes[0].set_title('Probability Wave from Activation Function')\n",
    "axes[0].scatter(x=range(0,860), y=prediction_concat[0:860,ints_idx], c=['blue'])\n",
    "axes[0].scatter(x=range(0,860), y=prediction_concat[0:860,ints_idx+1], c=['red'])\n",
    "axes[0].scatter(x=range(0,860), y=prediction_concat[0:860,ints_idx+2], c=['green'])\n",
    "axes[0].set_xlim(0,860)\n",
    "\n",
    "axes[1].set_title('%s Onset from Drum Description'% (inst_labels[ints_idx]))\n",
    "axes[1].imshow(y_test[0:860,ints_idx:ints_idx+ints_no].transpose(),cmap='Greys',aspect='auto', interpolation = 'nearest')\n",
    "axes[1].locator_params(axis='y', nbins=ints_no)\n",
    "axes[1].set_yticklabels([''] + inst_labels[ints_idx:ints_idx+3])\n",
    "\n",
    "\n",
    "axes[2].set_title('Predicted %s Onset based on LSTM Model'% (inst_labels[ints_idx]))\n",
    "axes[2].imshow(predicts[0:860,ints_idx:ints_idx+ints_no].transpose(),cmap='Blues',aspect='auto', interpolation = 'nearest')\n",
    "axes[2].locator_params(axis='y', nbins=ints_no)\n",
    "axes[2].set_yticklabels([''] + inst_labels[ints_idx:ints_idx+3])"
   ]
  },
  {
   "cell_type": "markdown",
   "metadata": {},
   "source": [
    "## 2.3 LSTM Model with 3 Drum Instrument\n",
    "'Closed Hi Hat', 'Acoustic Bass Drum', 'Acoustic Snare'"
   ]
  },
  {
   "cell_type": "code",
   "execution_count": 15,
   "metadata": {},
   "outputs": [
    {
     "name": "stdout",
     "output_type": "stream",
     "text": [
      "Train dataset shape: (347, 215, 1025)\n",
      "Train label shape: (347, 215, 3)\n",
      "Validation dataset shape: (178, 215, 1025)\n",
      "Validation label shape: (178, 215, 3)\n",
      "Test dataset shape: (76, 215, 1025)\n",
      "Test label shape: (76, 215, 3)\n"
     ]
    }
   ],
   "source": [
    "# npy arrays were created using segment length of 5 seconds\n",
    "# convert 5 seconds into frames (npy arrays are in frames)\n",
    "segmentLength = librosa.time_to_frames(5) \n",
    "\n",
    "# Number of drum instruments to study in model\n",
    "n_inst = 3\n",
    "\n",
    "train_segment_generator = KerasSegmentGenerator(x_train, y_train[:,0:n_inst], segmentLength, x_train.shape[1], y_train[:,0:n_inst].shape[1],\n",
    "                                           skip_step=segmentLength)\n",
    "val_segment_generator = KerasSegmentGenerator(x_val , y_val[:,0:n_inst], segmentLength, x_val.shape[1], y_val[:,0:n_inst].shape[1],\n",
    "                                           skip_step=segmentLength)\n",
    "test_segment_generator = KerasSegmentGenerator(x_test , y_test[:,0:n_inst], segmentLength, x_test.shape[1], y_test[:,0:n_inst].shape[1],\n",
    "                                           skip_step=segmentLength)\n",
    "\n",
    "trainx,trainy = train_segment_generator.generate()\n",
    "valx,valy = val_segment_generator.generate()\n",
    "testx,testy = test_segment_generator.generate()\n",
    "\n",
    "print('Train dataset shape:', trainx.shape)\n",
    "print('Train label shape:', trainy.shape)\n",
    "print('Validation dataset shape:', valx.shape)\n",
    "print('Validation label shape:', valy.shape)\n",
    "print('Test dataset shape:', testx.shape)\n",
    "print('Test label shape:', testy.shape)"
   ]
  },
  {
   "cell_type": "code",
   "execution_count": 77,
   "metadata": {},
   "outputs": [
    {
     "name": "stdout",
     "output_type": "stream",
     "text": [
      "Build model...\n",
      "Adding 1st layer of 500 units\n",
      "Adding 2th layer of 500 units\n",
      "Adding classification layer\n",
      "Train . . .\n",
      "Epoch 1/200\n",
      "18/18 [==============================] - ETA: 0s - binary_crossentropy: 0.2041 - loss: 0.2041\n",
      "Epoch 00001: val_loss improved from inf to 0.11770, saving model to model_log/LSTM_BatchSize_20_Layers_2_Nodes_500_Classes_3/model-01.hdf5\n",
      "18/18 [==============================] - 29s 2s/step - binary_crossentropy: 0.2041 - loss: 0.2041 - val_loss: 0.1177 - val_binary_crossentropy: 0.1177\n",
      "Epoch 2/200\n",
      "18/18 [==============================] - ETA: 0s - binary_crossentropy: 0.1204 - loss: 0.1204\n",
      "Epoch 00002: val_loss improved from 0.11770 to 0.08636, saving model to model_log/LSTM_BatchSize_20_Layers_2_Nodes_500_Classes_3/model-02.hdf5\n",
      "18/18 [==============================] - 29s 2s/step - binary_crossentropy: 0.1204 - loss: 0.1204 - val_loss: 0.0864 - val_binary_crossentropy: 0.0864\n",
      "Epoch 3/200\n",
      "18/18 [==============================] - ETA: 0s - binary_crossentropy: 0.0884 - loss: 0.0884\n",
      "Epoch 00003: val_loss improved from 0.08636 to 0.06734, saving model to model_log/LSTM_BatchSize_20_Layers_2_Nodes_500_Classes_3/model-03.hdf5\n",
      "18/18 [==============================] - 29s 2s/step - binary_crossentropy: 0.0884 - loss: 0.0884 - val_loss: 0.0673 - val_binary_crossentropy: 0.0673\n",
      "Epoch 4/200\n",
      "18/18 [==============================] - ETA: 0s - binary_crossentropy: 0.0759 - loss: 0.0759\n",
      "Epoch 00004: val_loss improved from 0.06734 to 0.06331, saving model to model_log/LSTM_BatchSize_20_Layers_2_Nodes_500_Classes_3/model-04.hdf5\n",
      "18/18 [==============================] - 29s 2s/step - binary_crossentropy: 0.0759 - loss: 0.0759 - val_loss: 0.0633 - val_binary_crossentropy: 0.0633\n",
      "Epoch 5/200\n",
      "18/18 [==============================] - ETA: 0s - binary_crossentropy: 0.0651 - loss: 0.0651\n",
      "Epoch 00005: val_loss did not improve from 0.06331\n",
      "18/18 [==============================] - 29s 2s/step - binary_crossentropy: 0.0651 - loss: 0.0651 - val_loss: 0.0636 - val_binary_crossentropy: 0.0636\n",
      "Epoch 6/200\n",
      "18/18 [==============================] - ETA: 0s - binary_crossentropy: 0.0591 - loss: 0.0591\n",
      "Epoch 00006: val_loss improved from 0.06331 to 0.05678, saving model to model_log/LSTM_BatchSize_20_Layers_2_Nodes_500_Classes_3/model-06.hdf5\n",
      "18/18 [==============================] - 29s 2s/step - binary_crossentropy: 0.0591 - loss: 0.0591 - val_loss: 0.0568 - val_binary_crossentropy: 0.0568\n",
      "Epoch 7/200\n",
      "18/18 [==============================] - ETA: 0s - binary_crossentropy: 0.0548 - loss: 0.0548\n",
      "Epoch 00007: val_loss did not improve from 0.05678\n",
      "18/18 [==============================] - 28s 2s/step - binary_crossentropy: 0.0548 - loss: 0.0548 - val_loss: 0.0568 - val_binary_crossentropy: 0.0568\n",
      "Epoch 8/200\n",
      "18/18 [==============================] - ETA: 0s - binary_crossentropy: 0.0511 - loss: 0.0511\n",
      "Epoch 00008: val_loss improved from 0.05678 to 0.05601, saving model to model_log/LSTM_BatchSize_20_Layers_2_Nodes_500_Classes_3/model-08.hdf5\n",
      "18/18 [==============================] - 29s 2s/step - binary_crossentropy: 0.0511 - loss: 0.0511 - val_loss: 0.0560 - val_binary_crossentropy: 0.0560\n",
      "Epoch 9/200\n",
      "18/18 [==============================] - ETA: 0s - binary_crossentropy: 0.0473 - loss: 0.0473\n",
      "Epoch 00009: val_loss improved from 0.05601 to 0.05460, saving model to model_log/LSTM_BatchSize_20_Layers_2_Nodes_500_Classes_3/model-09.hdf5\n",
      "18/18 [==============================] - 29s 2s/step - binary_crossentropy: 0.0473 - loss: 0.0473 - val_loss: 0.0546 - val_binary_crossentropy: 0.0546\n",
      "Epoch 10/200\n",
      "18/18 [==============================] - ETA: 0s - binary_crossentropy: 0.0448 - loss: 0.0448\n",
      "Epoch 00010: val_loss did not improve from 0.05460\n",
      "18/18 [==============================] - 28s 2s/step - binary_crossentropy: 0.0448 - loss: 0.0448 - val_loss: 0.0551 - val_binary_crossentropy: 0.0551\n",
      "Epoch 11/200\n",
      "18/18 [==============================] - ETA: 0s - binary_crossentropy: 0.0421 - loss: 0.0421\n",
      "Epoch 00011: val_loss did not improve from 0.05460\n",
      "18/18 [==============================] - 29s 2s/step - binary_crossentropy: 0.0421 - loss: 0.0421 - val_loss: 0.0582 - val_binary_crossentropy: 0.0582\n",
      "Epoch 12/200\n",
      "18/18 [==============================] - ETA: 0s - binary_crossentropy: 0.0400 - loss: 0.0400\n",
      "Epoch 00012: val_loss did not improve from 0.05460\n",
      "18/18 [==============================] - 28s 2s/step - binary_crossentropy: 0.0400 - loss: 0.0400 - val_loss: 0.0549 - val_binary_crossentropy: 0.0549\n",
      "Epoch 13/200\n",
      "18/18 [==============================] - ETA: 0s - binary_crossentropy: 0.0370 - loss: 0.0370\n",
      "Epoch 00013: val_loss improved from 0.05460 to 0.05314, saving model to model_log/LSTM_BatchSize_20_Layers_2_Nodes_500_Classes_3/model-13.hdf5\n",
      "18/18 [==============================] - 28s 2s/step - binary_crossentropy: 0.0370 - loss: 0.0370 - val_loss: 0.0531 - val_binary_crossentropy: 0.0531\n",
      "Epoch 14/200\n",
      "18/18 [==============================] - ETA: 0s - binary_crossentropy: 0.0357 - loss: 0.0357\n",
      "Epoch 00014: val_loss improved from 0.05314 to 0.05311, saving model to model_log/LSTM_BatchSize_20_Layers_2_Nodes_500_Classes_3/model-14.hdf5\n",
      "18/18 [==============================] - 29s 2s/step - binary_crossentropy: 0.0357 - loss: 0.0357 - val_loss: 0.0531 - val_binary_crossentropy: 0.0531\n",
      "Epoch 15/200\n",
      "18/18 [==============================] - ETA: 0s - binary_crossentropy: 0.0334 - loss: 0.0334\n",
      "Epoch 00015: val_loss improved from 0.05311 to 0.05239, saving model to model_log/LSTM_BatchSize_20_Layers_2_Nodes_500_Classes_3/model-15.hdf5\n",
      "18/18 [==============================] - 29s 2s/step - binary_crossentropy: 0.0334 - loss: 0.0334 - val_loss: 0.0524 - val_binary_crossentropy: 0.0524\n",
      "Epoch 16/200\n",
      "18/18 [==============================] - ETA: 0s - binary_crossentropy: 0.0317 - loss: 0.0317\n",
      "Epoch 00016: val_loss did not improve from 0.05239\n",
      "18/18 [==============================] - 29s 2s/step - binary_crossentropy: 0.0317 - loss: 0.0317 - val_loss: 0.0544 - val_binary_crossentropy: 0.0544\n",
      "Epoch 17/200\n",
      "18/18 [==============================] - ETA: 0s - binary_crossentropy: 0.0295 - loss: 0.0295\n",
      "Epoch 00017: val_loss did not improve from 0.05239\n",
      "18/18 [==============================] - 28s 2s/step - binary_crossentropy: 0.0295 - loss: 0.0295 - val_loss: 0.0551 - val_binary_crossentropy: 0.0551\n",
      "Epoch 18/200\n",
      "18/18 [==============================] - ETA: 0s - binary_crossentropy: 0.0290 - loss: 0.0290\n",
      "Epoch 00018: val_loss did not improve from 0.05239\n",
      "18/18 [==============================] - 28s 2s/step - binary_crossentropy: 0.0290 - loss: 0.0290 - val_loss: 0.0535 - val_binary_crossentropy: 0.0535\n",
      "Epoch 19/200\n",
      "18/18 [==============================] - ETA: 0s - binary_crossentropy: 0.0272 - loss: 0.0272\n",
      "Epoch 00019: val_loss did not improve from 0.05239\n",
      "18/18 [==============================] - 29s 2s/step - binary_crossentropy: 0.0272 - loss: 0.0272 - val_loss: 0.0533 - val_binary_crossentropy: 0.0533\n",
      "Epoch 20/200\n",
      "18/18 [==============================] - ETA: 0s - binary_crossentropy: 0.0265 - loss: 0.0265\n",
      "Epoch 00020: val_loss did not improve from 0.05239\n",
      "18/18 [==============================] - 28s 2s/step - binary_crossentropy: 0.0265 - loss: 0.0265 - val_loss: 0.0559 - val_binary_crossentropy: 0.0559\n",
      "Epoch 21/200\n",
      "18/18 [==============================] - ETA: 0s - binary_crossentropy: 0.0246 - loss: 0.0246\n",
      "Epoch 00021: val_loss did not improve from 0.05239\n",
      "18/18 [==============================] - 29s 2s/step - binary_crossentropy: 0.0246 - loss: 0.0246 - val_loss: 0.0559 - val_binary_crossentropy: 0.0559\n",
      "Epoch 22/200\n",
      "18/18 [==============================] - ETA: 0s - binary_crossentropy: 0.0230 - loss: 0.0230\n",
      "Epoch 00022: val_loss did not improve from 0.05239\n",
      "18/18 [==============================] - 28s 2s/step - binary_crossentropy: 0.0230 - loss: 0.0230 - val_loss: 0.0548 - val_binary_crossentropy: 0.0548\n",
      "Epoch 23/200\n",
      "18/18 [==============================] - ETA: 0s - binary_crossentropy: 0.0231 - loss: 0.0231\n",
      "Epoch 00023: val_loss did not improve from 0.05239\n",
      "18/18 [==============================] - 28s 2s/step - binary_crossentropy: 0.0231 - loss: 0.0231 - val_loss: 0.0547 - val_binary_crossentropy: 0.0547\n",
      "Epoch 24/200\n",
      "18/18 [==============================] - ETA: 0s - binary_crossentropy: 0.0211 - loss: 0.0211\n",
      "Epoch 00024: val_loss did not improve from 0.05239\n",
      "18/18 [==============================] - 28s 2s/step - binary_crossentropy: 0.0211 - loss: 0.0211 - val_loss: 0.0577 - val_binary_crossentropy: 0.0577\n",
      "Epoch 25/200\n",
      "18/18 [==============================] - ETA: 0s - binary_crossentropy: 0.0206 - loss: 0.0206\n",
      "Epoch 00025: val_loss did not improve from 0.05239\n",
      "18/18 [==============================] - 28s 2s/step - binary_crossentropy: 0.0206 - loss: 0.0206 - val_loss: 0.0579 - val_binary_crossentropy: 0.0579\n",
      "Epoch 26/200\n",
      "18/18 [==============================] - ETA: 0s - binary_crossentropy: 0.0193 - loss: 0.0193\n",
      "Epoch 00026: val_loss did not improve from 0.05239\n",
      "18/18 [==============================] - 28s 2s/step - binary_crossentropy: 0.0193 - loss: 0.0193 - val_loss: 0.0612 - val_binary_crossentropy: 0.0612\n",
      "Epoch 27/200\n",
      "18/18 [==============================] - ETA: 0s - binary_crossentropy: 0.0177 - loss: 0.0177\n",
      "Epoch 00027: val_loss did not improve from 0.05239\n",
      "18/18 [==============================] - 28s 2s/step - binary_crossentropy: 0.0177 - loss: 0.0177 - val_loss: 0.0594 - val_binary_crossentropy: 0.0594\n",
      "Epoch 28/200\n",
      "18/18 [==============================] - ETA: 0s - binary_crossentropy: 0.0170 - loss: 0.0170\n",
      "Epoch 00028: val_loss did not improve from 0.05239\n",
      "18/18 [==============================] - 28s 2s/step - binary_crossentropy: 0.0170 - loss: 0.0170 - val_loss: 0.0642 - val_binary_crossentropy: 0.0642\n",
      "Epoch 29/200\n",
      "18/18 [==============================] - ETA: 0s - binary_crossentropy: 0.0166 - loss: 0.0166\n",
      "Epoch 00029: val_loss did not improve from 0.05239\n",
      "18/18 [==============================] - 29s 2s/step - binary_crossentropy: 0.0166 - loss: 0.0166 - val_loss: 0.0611 - val_binary_crossentropy: 0.0611\n",
      "Epoch 30/200\n",
      "18/18 [==============================] - ETA: 0s - binary_crossentropy: 0.0159 - loss: 0.0159\n",
      "Epoch 00030: val_loss did not improve from 0.05239\n",
      "18/18 [==============================] - 28s 2s/step - binary_crossentropy: 0.0159 - loss: 0.0159 - val_loss: 0.0644 - val_binary_crossentropy: 0.0644\n",
      "Epoch 31/200\n",
      "18/18 [==============================] - ETA: 0s - binary_crossentropy: 0.0147 - loss: 0.0147\n",
      "Epoch 00031: val_loss did not improve from 0.05239\n",
      "18/18 [==============================] - 28s 2s/step - binary_crossentropy: 0.0147 - loss: 0.0147 - val_loss: 0.0641 - val_binary_crossentropy: 0.0641\n",
      "Epoch 32/200\n",
      "18/18 [==============================] - ETA: 0s - binary_crossentropy: 0.0142 - loss: 0.0142\n",
      "Epoch 00032: val_loss did not improve from 0.05239\n",
      "18/18 [==============================] - 28s 2s/step - binary_crossentropy: 0.0142 - loss: 0.0142 - val_loss: 0.0677 - val_binary_crossentropy: 0.0677\n",
      "Epoch 33/200\n",
      "18/18 [==============================] - ETA: 0s - binary_crossentropy: 0.0136 - loss: 0.0136\n",
      "Epoch 00033: val_loss did not improve from 0.05239\n",
      "18/18 [==============================] - 28s 2s/step - binary_crossentropy: 0.0136 - loss: 0.0136 - val_loss: 0.0697 - val_binary_crossentropy: 0.0697\n",
      "Epoch 34/200\n",
      "18/18 [==============================] - ETA: 0s - binary_crossentropy: 0.0124 - loss: 0.0124\n",
      "Epoch 00034: val_loss did not improve from 0.05239\n",
      "18/18 [==============================] - 28s 2s/step - binary_crossentropy: 0.0124 - loss: 0.0124 - val_loss: 0.0659 - val_binary_crossentropy: 0.0659\n",
      "Epoch 35/200\n",
      "18/18 [==============================] - ETA: 0s - binary_crossentropy: 0.0117 - loss: 0.0117\n",
      "Epoch 00035: val_loss did not improve from 0.05239\n",
      "18/18 [==============================] - 28s 2s/step - binary_crossentropy: 0.0117 - loss: 0.0117 - val_loss: 0.0693 - val_binary_crossentropy: 0.0693\n",
      "Epoch 00035: early stopping\n"
     ]
    }
   ],
   "source": [
    "'''###### TRAIN 1: LSTM - 2 layers - 500 unis per layer ######'''\n",
    "   \n",
    "number_units = 500\n",
    "number_layers = 2\n",
    "number_classes = trainy.shape[2]\n",
    "num_epochs = 200\n",
    "batch_size = 20\n",
    "File_Root = 'model_log/'\n",
    "\n",
    "#Create a folder to restore the state and log file\n",
    "weights_dir = File_Root + 'LSTM_BatchSize_%i_Layers_%i_Nodes_%i_Classes_%i'%(batch_size, number_layers, number_units, number_classes)\n",
    "if not os.path.exists(weights_dir):\n",
    "    os.makedirs(weights_dir)\n",
    "\n",
    "\n",
    "print ('Build model...')\n",
    "model = Sequential()\n",
    "history = History()\n",
    "\n",
    "print(\"Adding 1st layer of {} units\".format(number_units))\n",
    "model.add(LSTM(units=number_units, input_shape=(segmentLength,trainx.shape[2],), return_sequences=True))\n",
    "for i in range(number_layers-1):\n",
    "    print (\"Adding %d\" % (i+2) + \"th layer of %d\" % number_units + \" units\")\n",
    "    model.add(LSTM(number_units, return_sequences=True, activation='tanh'))\n",
    "    # a dropout layer to prevent overfitting.\n",
    "    model.add(Dropout(0.25))\n",
    "\n",
    "print(\"Adding classification layer\")\n",
    "# TimeDistributed adds an independent layer for each time step in the recurrent model. \n",
    "model.add(TimeDistributed(Dense(number_classes)))\n",
    "model.add(Activation('sigmoid'))\n",
    "\n",
    "# Compile model\n",
    "model.compile(loss='binary_crossentropy', optimizer='adam', metrics=['binary_crossentropy'])\n",
    "\n",
    "checkpointer = ModelCheckpoint(filepath= weights_dir + '/model-{epoch:02d}.hdf5', verbose=1, save_best_only=True)\n",
    "early = EarlyStopping(monitor='val_loss', min_delta=0, patience=20, verbose=1, mode='auto')\n",
    "\n",
    "training_log = open(weights_dir + \"/Training.log\", \"w\")\n",
    "print ('Train . . .')\n",
    "# let's say you have an ImageNet generat        print \"Fitting the batch :\"\n",
    "save = model.fit(trainx, trainy, batch_size = batch_size, validation_data=(valx, valy), epochs = num_epochs, verbose=1,callbacks=[checkpointer, early])\n",
    "training_log.write(str(save.history) + \"\\n\")\n",
    "training_log.close()"
   ]
  },
  {
   "cell_type": "code",
   "execution_count": 16,
   "metadata": {},
   "outputs": [
    {
     "name": "stdout",
     "output_type": "stream",
     "text": [
      "Evaluate on test data\n",
      "4/4 [==============================] - 1s 272ms/step - loss: 0.0650 - binary_crossentropy: 0.0650\n",
      "test loss, test acc: [0.0650162473320961, 0.0650162398815155]\n",
      "[0.2579520419239998, 0.04315447062253952, 0.04207566156983376]\n",
      "                    precision    recall  f1-score   support\n",
      "\n",
      "     Closed Hi Hat       0.62      0.70      0.66       662\n",
      "Acoustic Bass Drum       0.59      0.70      0.64       707\n",
      "    Acoustic Snare       0.51      0.77      0.62       392\n",
      "\n",
      "       avg / total       0.58      0.72      0.64      1761\n",
      "\n"
     ]
    }
   ],
   "source": [
    "number_units = 500\n",
    "number_layers = 2\n",
    "number_classes = trainy.shape[2]\n",
    "num_epochs = 200\n",
    "batch_size = 20\n",
    "File_Root = 'model_log/'\n",
    "\n",
    "weights_dir = File_Root + 'LSTM_BatchSize_%i_Layers_%i_Nodes_%i_Classes_%i'%(batch_size, number_layers, number_units, number_classes)\n",
    "model = load_model(weights_dir + \"/model-15.hdf5\")\n",
    "# model.summary()\n",
    "print(\"Evaluate on test data\")\n",
    "results = model.evaluate(testx, testy, batch_size=20)\n",
    "print(\"test loss, test acc:\", results)\n",
    "prediction = model.predict(testx)\n",
    "# Threshold = 0.9\n",
    "# prediction[prediction>Threshold] = 1\n",
    "# prediction[prediction<=Threshold] = 0\n",
    "\n",
    "for i in range(prediction.shape[0]):\n",
    "    if i == 0:\n",
    "        prediction_concat = prediction[i, :, :]\n",
    "        testy_concat = testy[i, :, :]\n",
    "    else:\n",
    "        prediction_concat = np.concatenate((prediction_concat,prediction[i, :, :]))\n",
    "        testy_concat = np.concatenate((testy_concat,testy[i, :, :]))\n",
    "        \n",
    "\n",
    "\n",
    "rate_lst = [6, 1, 1.7, 8, 8]\n",
    "T=[]\n",
    "\n",
    "for i in range(trainy.shape[2]):\n",
    "    T.append(rate_lst[i]*np.mean(prediction_concat[:,i],axis = 0))\n",
    "print(T)\n",
    "    \n",
    "    \n",
    "predicts =  np.zeros(prediction_concat.shape)\n",
    "\n",
    "for i in range(prediction_concat.shape[0]):\n",
    "    for j in range(prediction_concat.shape[1]):\n",
    "        if (i != 0) and (i != prediction_concat.shape[0]-1):\n",
    "            if (prediction_concat[i][j]>prediction_concat[i-1][j]) and (prediction_concat[i][j]>=prediction_concat[i+1][j]) and (prediction_concat[i][j]>T[j]):\n",
    "                predicts[i][j] = 1\n",
    "            else:\n",
    "                predicts[i][j] = 0\n",
    "        else:\n",
    "            predicts[i][j] = 0\n",
    "    \n",
    "    \n",
    "\n",
    "from sklearn.metrics import classification_report\n",
    "print(classification_report(testy_concat, predicts, target_names=inst_labels[0:trainy.shape[2]]))"
   ]
  },
  {
   "cell_type": "markdown",
   "metadata": {},
   "source": [
    "## 3. Upload File to Bucket"
   ]
  },
  {
   "cell_type": "code",
   "execution_count": 12,
   "metadata": {},
   "outputs": [],
   "source": [
    "def writeGcpFile(bucket, gcp_filepath, local_filepath):\n",
    "    \"\"\"\n",
    "    Writes a file to GCP bucket storage\n",
    "    \n",
    "    Inputs:\n",
    "    auth_json = str path to service account json auth file\n",
    "    bucket = str bucket name\n",
    "    gcp_filepath = str filepath to file in bucket\n",
    "    local_filepath = str filepath to local file\n",
    "    \n",
    "    Outputs:\n",
    "    prints a statement showing successful file upload to gcp_filepath\n",
    "    \"\"\"\n",
    "    from google.cloud import storage\n",
    "    \n",
    "    # create storage client\n",
    "    storage_client = storage.Client()\n",
    "    # get bucket with name\n",
    "    bucket = storage_client.bucket(bucket)\n",
    "    # write local file to GCP\n",
    "    blob = bucket.blob(gcp_filepath)\n",
    "    \n",
    "    # use gsutil command to write file using multi-threading\n",
    "    #!gsutil -m cp {local_filepath} gs://{bucket}/{gcp_filepath}\n",
    "    \n",
    "    blob.upload_from_filename(local_filepath)\n",
    "\n",
    "    print('File {} uploaded to {}.'.format(\n",
    "            local_filepath.split('/')[-1],\n",
    "            gcp_filepath)\n",
    "         )"
   ]
  },
  {
   "cell_type": "code",
   "execution_count": 22,
   "metadata": {},
   "outputs": [],
   "source": [
    "from google.cloud import storage\n",
    "import os\n",
    "import logging\n",
    "def writeGcpFile(gcs_project_id, target_bucket_name, bucket_folder, filename):\n",
    "        '''upload CSV to file in GCS\n",
    "\n",
    "        Args:\n",
    "            gcs_project_id (str): project name\n",
    "            target_bucket_name (str): name of GCS bucket\n",
    "            bucket_folder (str): name of GCS folder\n",
    "            filename (str): filepath to upload\n",
    "\n",
    "        Returns:\n",
    "            nothing. Side effect is that data is uploaded to GCS\n",
    "\n",
    "        '''\n",
    "        storage_client = storage.Client(gcs_project_id)\n",
    "        bucket = storage_client.get_bucket(target_bucket_name)\n",
    "        path = bucket_folder + os.sep + filename\n",
    "        logging.info(\"Loading to GCS: %s\", path)\n",
    "        blob = bucket.blob(path) #name in GCS\n",
    "        blob.upload_from_filename('model_log/LSTM_mdb_idmt_egmd500_BatchSize_20_Layers_2_Nodes_500_Classes_7/'+filename) \n"
   ]
  },
  {
   "cell_type": "code",
   "execution_count": 24,
   "metadata": {},
   "outputs": [
    {
     "ename": "Forbidden",
     "evalue": "403 POST https://storage.googleapis.com/upload/storage/v1/b/fyr-audio-data/o?uploadType=resumable: ('Request failed with status code', 403, 'Expected one of', <HTTPStatus.OK: 200>)",
     "output_type": "error",
     "traceback": [
      "\u001b[0;31m---------------------------------------------------------------------------\u001b[0m",
      "\u001b[0;31mInvalidResponse\u001b[0m                           Traceback (most recent call last)",
      "\u001b[0;32m/usr/local/lib/python3.5/dist-packages/google/cloud/storage/blob.py\u001b[0m in \u001b[0;36mupload_from_file\u001b[0;34m(self, file_obj, rewind, size, content_type, num_retries, client, predefined_acl)\u001b[0m\n\u001b[1;32m   1260\u001b[0m             created_json = self._do_upload(\n\u001b[0;32m-> 1261\u001b[0;31m                 \u001b[0mclient\u001b[0m\u001b[0;34m,\u001b[0m \u001b[0mfile_obj\u001b[0m\u001b[0;34m,\u001b[0m \u001b[0mcontent_type\u001b[0m\u001b[0;34m,\u001b[0m \u001b[0msize\u001b[0m\u001b[0;34m,\u001b[0m \u001b[0mnum_retries\u001b[0m\u001b[0;34m,\u001b[0m \u001b[0mpredefined_acl\u001b[0m\u001b[0;34m\u001b[0m\u001b[0m\n\u001b[0m\u001b[1;32m   1262\u001b[0m             )\n",
      "\u001b[0;32m/usr/local/lib/python3.5/dist-packages/google/cloud/storage/blob.py\u001b[0m in \u001b[0;36m_do_upload\u001b[0;34m(self, client, stream, content_type, size, num_retries, predefined_acl)\u001b[0m\n\u001b[1;32m   1170\u001b[0m             response = self._do_resumable_upload(\n\u001b[0;32m-> 1171\u001b[0;31m                 \u001b[0mclient\u001b[0m\u001b[0;34m,\u001b[0m \u001b[0mstream\u001b[0m\u001b[0;34m,\u001b[0m \u001b[0mcontent_type\u001b[0m\u001b[0;34m,\u001b[0m \u001b[0msize\u001b[0m\u001b[0;34m,\u001b[0m \u001b[0mnum_retries\u001b[0m\u001b[0;34m,\u001b[0m \u001b[0mpredefined_acl\u001b[0m\u001b[0;34m\u001b[0m\u001b[0m\n\u001b[0m\u001b[1;32m   1172\u001b[0m             )\n",
      "\u001b[0;32m/usr/local/lib/python3.5/dist-packages/google/cloud/storage/blob.py\u001b[0m in \u001b[0;36m_do_resumable_upload\u001b[0;34m(self, client, stream, content_type, size, num_retries, predefined_acl)\u001b[0m\n\u001b[1;32m   1113\u001b[0m             \u001b[0mnum_retries\u001b[0m\u001b[0;34m,\u001b[0m\u001b[0;34m\u001b[0m\u001b[0m\n\u001b[0;32m-> 1114\u001b[0;31m             \u001b[0mpredefined_acl\u001b[0m\u001b[0;34m=\u001b[0m\u001b[0mpredefined_acl\u001b[0m\u001b[0;34m,\u001b[0m\u001b[0;34m\u001b[0m\u001b[0m\n\u001b[0m\u001b[1;32m   1115\u001b[0m         )\n",
      "\u001b[0;32m/usr/local/lib/python3.5/dist-packages/google/cloud/storage/blob.py\u001b[0m in \u001b[0;36m_initiate_resumable_upload\u001b[0;34m(self, client, stream, content_type, size, num_retries, predefined_acl, extra_headers, chunk_size)\u001b[0m\n\u001b[1;32m   1062\u001b[0m             \u001b[0mtotal_bytes\u001b[0m\u001b[0;34m=\u001b[0m\u001b[0msize\u001b[0m\u001b[0;34m,\u001b[0m\u001b[0;34m\u001b[0m\u001b[0m\n\u001b[0;32m-> 1063\u001b[0;31m             \u001b[0mstream_final\u001b[0m\u001b[0;34m=\u001b[0m\u001b[0;32mFalse\u001b[0m\u001b[0;34m,\u001b[0m\u001b[0;34m\u001b[0m\u001b[0m\n\u001b[0m\u001b[1;32m   1064\u001b[0m         )\n",
      "\u001b[0;32m/usr/local/lib/python3.5/dist-packages/google/resumable_media/requests/upload.py\u001b[0m in \u001b[0;36minitiate\u001b[0;34m(self, transport, stream, metadata, content_type, total_bytes, stream_final)\u001b[0m\n\u001b[1;32m    352\u001b[0m         )\n\u001b[0;32m--> 353\u001b[0;31m         \u001b[0mself\u001b[0m\u001b[0;34m.\u001b[0m\u001b[0m_process_initiate_response\u001b[0m\u001b[0;34m(\u001b[0m\u001b[0mresponse\u001b[0m\u001b[0;34m)\u001b[0m\u001b[0;34m\u001b[0m\u001b[0m\n\u001b[0m\u001b[1;32m    354\u001b[0m         \u001b[0;32mreturn\u001b[0m \u001b[0mresponse\u001b[0m\u001b[0;34m\u001b[0m\u001b[0m\n",
      "\u001b[0;32m/usr/local/lib/python3.5/dist-packages/google/resumable_media/_upload.py\u001b[0m in \u001b[0;36m_process_initiate_response\u001b[0;34m(self, response)\u001b[0m\n\u001b[1;32m    456\u001b[0m             \u001b[0mself\u001b[0m\u001b[0;34m.\u001b[0m\u001b[0m_get_status_code\u001b[0m\u001b[0;34m,\u001b[0m\u001b[0;34m\u001b[0m\u001b[0m\n\u001b[0;32m--> 457\u001b[0;31m             \u001b[0mcallback\u001b[0m\u001b[0;34m=\u001b[0m\u001b[0mself\u001b[0m\u001b[0;34m.\u001b[0m\u001b[0m_make_invalid\u001b[0m\u001b[0;34m,\u001b[0m\u001b[0;34m\u001b[0m\u001b[0m\n\u001b[0m\u001b[1;32m    458\u001b[0m         )\n",
      "\u001b[0;32m/usr/local/lib/python3.5/dist-packages/google/resumable_media/_helpers.py\u001b[0m in \u001b[0;36mrequire_status_code\u001b[0;34m(response, status_codes, get_status_code, callback)\u001b[0m\n\u001b[1;32m     95\u001b[0m             \u001b[0;34mu\"Expected one of\"\u001b[0m\u001b[0;34m,\u001b[0m\u001b[0;34m\u001b[0m\u001b[0m\n\u001b[0;32m---> 96\u001b[0;31m             \u001b[0;34m*\u001b[0m\u001b[0mstatus_codes\u001b[0m\u001b[0;34m\u001b[0m\u001b[0m\n\u001b[0m\u001b[1;32m     97\u001b[0m         )\n",
      "\u001b[0;31mInvalidResponse\u001b[0m: ('Request failed with status code', 403, 'Expected one of', <HTTPStatus.OK: 200>)",
      "\nDuring handling of the above exception, another exception occurred:\n",
      "\u001b[0;31mForbidden\u001b[0m                                 Traceback (most recent call last)",
      "\u001b[0;32m<ipython-input-24-1745b54e71f5>\u001b[0m in \u001b[0;36m<module>\u001b[0;34m\u001b[0m\n\u001b[0;32m----> 1\u001b[0;31m \u001b[0mwriteGcpFile\u001b[0m\u001b[0;34m(\u001b[0m\u001b[0mgcs_project_id\u001b[0m\u001b[0;34m=\u001b[0m\u001b[0;34m'find-your-rhythm'\u001b[0m\u001b[0;34m,\u001b[0m \u001b[0mtarget_bucket_name\u001b[0m\u001b[0;34m=\u001b[0m\u001b[0;34m'fyr-audio-data'\u001b[0m\u001b[0;34m,\u001b[0m \u001b[0mbucket_folder\u001b[0m\u001b[0;34m=\u001b[0m\u001b[0;34m'model_output/mdb_idmt_egmd500/'\u001b[0m\u001b[0;34m,\u001b[0m \u001b[0mfilename\u001b[0m\u001b[0;34m=\u001b[0m\u001b[0;34m'model-40.hdf5'\u001b[0m\u001b[0;34m)\u001b[0m\u001b[0;34m\u001b[0m\u001b[0m\n\u001b[0m",
      "\u001b[0;32m<ipython-input-22-5d968ab038d7>\u001b[0m in \u001b[0;36mwriteGcpFile\u001b[0;34m(gcs_project_id, target_bucket_name, bucket_folder, filename)\u001b[0m\n\u001b[1;32m     20\u001b[0m         \u001b[0mlogging\u001b[0m\u001b[0;34m.\u001b[0m\u001b[0minfo\u001b[0m\u001b[0;34m(\u001b[0m\u001b[0;34m\"Loading to GCS: %s\"\u001b[0m\u001b[0;34m,\u001b[0m \u001b[0mpath\u001b[0m\u001b[0;34m)\u001b[0m\u001b[0;34m\u001b[0m\u001b[0m\n\u001b[1;32m     21\u001b[0m         \u001b[0mblob\u001b[0m \u001b[0;34m=\u001b[0m \u001b[0mbucket\u001b[0m\u001b[0;34m.\u001b[0m\u001b[0mblob\u001b[0m\u001b[0;34m(\u001b[0m\u001b[0mpath\u001b[0m\u001b[0;34m)\u001b[0m \u001b[0;31m#name in GCS\u001b[0m\u001b[0;34m\u001b[0m\u001b[0m\n\u001b[0;32m---> 22\u001b[0;31m         \u001b[0mblob\u001b[0m\u001b[0;34m.\u001b[0m\u001b[0mupload_from_filename\u001b[0m\u001b[0;34m(\u001b[0m\u001b[0;34m'model_log/LSTM_mdb_idmt_egmd500_BatchSize_20_Layers_2_Nodes_500_Classes_7/'\u001b[0m\u001b[0;34m+\u001b[0m\u001b[0mfilename\u001b[0m\u001b[0;34m)\u001b[0m\u001b[0;34m\u001b[0m\u001b[0m\n\u001b[0m",
      "\u001b[0;32m/usr/local/lib/python3.5/dist-packages/google/cloud/storage/blob.py\u001b[0m in \u001b[0;36mupload_from_filename\u001b[0;34m(self, filename, content_type, client, predefined_acl)\u001b[0m\n\u001b[1;32m   1314\u001b[0m                 \u001b[0mclient\u001b[0m\u001b[0;34m=\u001b[0m\u001b[0mclient\u001b[0m\u001b[0;34m,\u001b[0m\u001b[0;34m\u001b[0m\u001b[0m\n\u001b[1;32m   1315\u001b[0m                 \u001b[0msize\u001b[0m\u001b[0;34m=\u001b[0m\u001b[0mtotal_bytes\u001b[0m\u001b[0;34m,\u001b[0m\u001b[0;34m\u001b[0m\u001b[0m\n\u001b[0;32m-> 1316\u001b[0;31m                 \u001b[0mpredefined_acl\u001b[0m\u001b[0;34m=\u001b[0m\u001b[0mpredefined_acl\u001b[0m\u001b[0;34m,\u001b[0m\u001b[0;34m\u001b[0m\u001b[0m\n\u001b[0m\u001b[1;32m   1317\u001b[0m             )\n\u001b[1;32m   1318\u001b[0m \u001b[0;34m\u001b[0m\u001b[0m\n",
      "\u001b[0;32m/usr/local/lib/python3.5/dist-packages/google/cloud/storage/blob.py\u001b[0m in \u001b[0;36mupload_from_file\u001b[0;34m(self, file_obj, rewind, size, content_type, num_retries, client, predefined_acl)\u001b[0m\n\u001b[1;32m   1263\u001b[0m             \u001b[0mself\u001b[0m\u001b[0;34m.\u001b[0m\u001b[0m_set_properties\u001b[0m\u001b[0;34m(\u001b[0m\u001b[0mcreated_json\u001b[0m\u001b[0;34m)\u001b[0m\u001b[0;34m\u001b[0m\u001b[0m\n\u001b[1;32m   1264\u001b[0m         \u001b[0;32mexcept\u001b[0m \u001b[0mresumable_media\u001b[0m\u001b[0;34m.\u001b[0m\u001b[0mInvalidResponse\u001b[0m \u001b[0;32mas\u001b[0m \u001b[0mexc\u001b[0m\u001b[0;34m:\u001b[0m\u001b[0;34m\u001b[0m\u001b[0m\n\u001b[0;32m-> 1265\u001b[0;31m             \u001b[0m_raise_from_invalid_response\u001b[0m\u001b[0;34m(\u001b[0m\u001b[0mexc\u001b[0m\u001b[0;34m)\u001b[0m\u001b[0;34m\u001b[0m\u001b[0m\n\u001b[0m\u001b[1;32m   1266\u001b[0m \u001b[0;34m\u001b[0m\u001b[0m\n\u001b[1;32m   1267\u001b[0m     def upload_from_filename(\n",
      "\u001b[0;32m/usr/local/lib/python3.5/dist-packages/google/cloud/storage/blob.py\u001b[0m in \u001b[0;36m_raise_from_invalid_response\u001b[0;34m(error)\u001b[0m\n\u001b[1;32m   2170\u001b[0m     )\n\u001b[1;32m   2171\u001b[0m \u001b[0;34m\u001b[0m\u001b[0m\n\u001b[0;32m-> 2172\u001b[0;31m     \u001b[0;32mraise\u001b[0m \u001b[0mexceptions\u001b[0m\u001b[0;34m.\u001b[0m\u001b[0mfrom_http_status\u001b[0m\u001b[0;34m(\u001b[0m\u001b[0mresponse\u001b[0m\u001b[0;34m.\u001b[0m\u001b[0mstatus_code\u001b[0m\u001b[0;34m,\u001b[0m \u001b[0mmessage\u001b[0m\u001b[0;34m,\u001b[0m \u001b[0mresponse\u001b[0m\u001b[0;34m=\u001b[0m\u001b[0mresponse\u001b[0m\u001b[0;34m)\u001b[0m\u001b[0;34m\u001b[0m\u001b[0m\n\u001b[0m\u001b[1;32m   2173\u001b[0m \u001b[0;34m\u001b[0m\u001b[0m\n\u001b[1;32m   2174\u001b[0m \u001b[0;34m\u001b[0m\u001b[0m\n",
      "\u001b[0;31mForbidden\u001b[0m: 403 POST https://storage.googleapis.com/upload/storage/v1/b/fyr-audio-data/o?uploadType=resumable: ('Request failed with status code', 403, 'Expected one of', <HTTPStatus.OK: 200>)"
     ]
    }
   ],
   "source": [
    "\n",
    "writeGcpFile(gcs_project_id='find-your-rhythm', target_bucket_name='fyr-audio-data', bucket_folder='model_output/mdb_idmt_egmd500/', filename='model-40.hdf5')"
   ]
  }
 ],
 "metadata": {
  "kernelspec": {
   "display_name": "Python 3",
   "language": "python",
   "name": "python3"
  },
  "language_info": {
   "codemirror_mode": {
    "name": "ipython",
    "version": 3
   },
   "file_extension": ".py",
   "mimetype": "text/x-python",
   "name": "python",
   "nbconvert_exporter": "python",
   "pygments_lexer": "ipython3",
   "version": "3.5.3"
  }
 },
 "nbformat": 4,
 "nbformat_minor": 4
}
