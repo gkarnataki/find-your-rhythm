{
 "cells": [
  {
   "cell_type": "markdown",
   "metadata": {},
   "source": [
    "# Read in files from GCP Bucket"
   ]
  },
  {
   "cell_type": "markdown",
   "metadata": {},
   "source": [
    "## pickle files"
   ]
  },
  {
   "cell_type": "code",
   "execution_count": 95,
   "metadata": {},
   "outputs": [],
   "source": [
    "def readGcpPkl(auth_json, bucket, gcp_filepath):\n",
    "    \"\"\"\n",
    "    Reads in a pkl file from GCP bucket storage\n",
    "    \n",
    "    Inputs:\n",
    "    auth_json = str path to service account json auth file\n",
    "    bucket = str bucket name\n",
    "    gcp_filepath = filepath to file in bucket\n",
    "    \n",
    "    Outputs:\n",
    "    data = pickle file contents\n",
    "    \"\"\"\n",
    "    from google.cloud import storage\n",
    "    import pickle as pkl\n",
    "    \n",
    "    # create storage client\n",
    "    storage_client = storage.Client.from_service_account_json(auth_json)\n",
    "    # get bucket with name\n",
    "    bucket = storage_client.get_bucket(bucket)\n",
    "    # get bucket data as blob\n",
    "    blob = bucket.get_blob(gcp_filepath)\n",
    "    # convert to string\n",
    "    pkl_data = blob.download_as_string()\n",
    "    \n",
    "    data = pkl.loads(pkl_data)\n",
    "    return data"
   ]
  },
  {
   "cell_type": "markdown",
   "metadata": {},
   "source": [
    "## wav files"
   ]
  },
  {
   "cell_type": "code",
   "execution_count": 96,
   "metadata": {},
   "outputs": [],
   "source": [
    "def readGcpWav(auth_json, bucket, gcp_filepath, sr):\n",
    "    \"\"\"\n",
    "    Reads in a wav file from GCP bucket storage\n",
    "    \n",
    "    Inputs:\n",
    "    auth_json = str path to service account json auth file\n",
    "    bucket = str bucket name\n",
    "    gcp_filepath = filepath to file in bucket\n",
    "    sr = sampling rate at which to read wav data\n",
    "    \n",
    "    Outputs:\n",
    "    data = wav file contents\n",
    "    \"\"\"\n",
    "    from google.cloud import storage\n",
    "    import soundfile as sf\n",
    "    import io\n",
    "    \n",
    "    # create storage client\n",
    "    storage_client = storage.Client.from_service_account_json(auth_json)\n",
    "    # get bucket with name\n",
    "    bucket = storage_client.get_bucket(bucket)\n",
    "    # get bucket data as blob\n",
    "    blob = bucket.get_blob(gcp_filepath)\n",
    "    # convert to string\n",
    "    wav_data = blob.download_as_string()\n",
    "    \n",
    "    data, sr = sf.read(io.BytesIO(wav_data))\n",
    "    return data"
   ]
  },
  {
   "cell_type": "markdown",
   "metadata": {},
   "source": [
    "## midi files"
   ]
  },
  {
   "cell_type": "code",
   "execution_count": 97,
   "metadata": {},
   "outputs": [],
   "source": [
    "def readGcpMidi(auth_json, bucket, gcp_filepath):\n",
    "    \"\"\"\n",
    "    Reads in a midi file from GCP bucket storage\n",
    "    \n",
    "    Inputs:\n",
    "    auth_json = str path to service account json auth file\n",
    "    bucket = str bucket name\n",
    "    gcp_filepath = filepath to file in bucket\n",
    "    \n",
    "    Outputs:\n",
    "    data = midi file contents\n",
    "    \"\"\"\n",
    "    from google.cloud import storage\n",
    "    import pretty_midi\n",
    "    import os\n",
    "    \n",
    "    # create storage client\n",
    "    storage_client = storage.Client.from_service_account_json(auth_json)\n",
    "    # get bucket with name\n",
    "    bucket = storage_client.get_bucket(bucket)\n",
    "    # get bucket data as blob\n",
    "    blob = bucket.get_blob(gcp_filepath)\n",
    "    # download as temporary midi file\n",
    "    blob.download_to_filename('tempFile.midi')\n",
    "    \n",
    "    data = pretty_midi.PrettyMIDI('tempFile.midi')\n",
    "    os.remove('tempFile.midi')\n",
    "    return data    "
   ]
  },
  {
   "cell_type": "markdown",
   "metadata": {},
   "source": [
    "## numpy files"
   ]
  },
  {
   "cell_type": "code",
   "execution_count": 123,
   "metadata": {},
   "outputs": [],
   "source": [
    "def readGcpNpy(auth_json, bucket, gcp_filepath):\n",
    "    \"\"\"\n",
    "    Reads in a npy file from GCP bucket storage\n",
    "    \n",
    "    Inputs:\n",
    "    auth_json = str path to service account json auth file\n",
    "    bucket = str bucket name\n",
    "    gcp_filepath = filepath to file in bucket\n",
    "    \n",
    "    Outputs:\n",
    "    data = npy file contents\n",
    "    \"\"\"\n",
    "    from google.cloud import storage\n",
    "    import numpy as np\n",
    "    import os\n",
    "    \n",
    "    # create storage client\n",
    "    storage_client = storage.Client.from_service_account_json(auth_json)\n",
    "    # get bucket with name\n",
    "    bucket = storage_client.get_bucket(bucket)\n",
    "    # get bucket data as blob\n",
    "    blob = bucket.get_blob(gcp_filepath)\n",
    "    # download as temporary midi file\n",
    "    blob.download_to_filename('tempFile.npy')\n",
    "    \n",
    "    data = np.load('tempFile.npy')\n",
    "    os.remove('tempFile.npy')\n",
    "    return data "
   ]
  },
  {
   "cell_type": "code",
   "execution_count": 98,
   "metadata": {},
   "outputs": [],
   "source": [
    "# Testing pkl"
   ]
  },
  {
   "cell_type": "code",
   "execution_count": 99,
   "metadata": {},
   "outputs": [],
   "source": [
    "# this file will need to be saved locally. I have uploaded it to g drive if anyone needs it\n",
    "auth_json = 'C:/Users/andre/Downloads/Find Your Rhythm-57160f79f377.json'\n",
    "bucket = 'fyr-audio-data'\n",
    "gcp_filepath = 'raw-audio/IDMTdict.pkl'"
   ]
  },
  {
   "cell_type": "code",
   "execution_count": 100,
   "metadata": {},
   "outputs": [
    {
     "data": {
      "text/plain": [
       "dict"
      ]
     },
     "execution_count": 100,
     "metadata": {},
     "output_type": "execute_result"
    }
   ],
   "source": [
    "pkl_file = readGcpPkl(auth_json, bucket, gcp_filepath)\n",
    "type(pkl_file)"
   ]
  },
  {
   "cell_type": "code",
   "execution_count": 88,
   "metadata": {},
   "outputs": [],
   "source": [
    "# Testing wav"
   ]
  },
  {
   "cell_type": "code",
   "execution_count": 101,
   "metadata": {},
   "outputs": [],
   "source": [
    "gcp_filepath = 'raw-audio/IDMT/RealDrum01_00#MIX.wav'\n",
    "sr = 22050"
   ]
  },
  {
   "cell_type": "code",
   "execution_count": 103,
   "metadata": {},
   "outputs": [
    {
     "data": {
      "text/plain": [
       "numpy.ndarray"
      ]
     },
     "execution_count": 103,
     "metadata": {},
     "output_type": "execute_result"
    }
   ],
   "source": [
    "wav_file = readGcpWav(auth_json, bucket, gcp_filepath, sr)\n",
    "type(wav_file)"
   ]
  },
  {
   "cell_type": "code",
   "execution_count": 104,
   "metadata": {},
   "outputs": [],
   "source": [
    "# Testing midi\n",
    "gcp_filepath = 'raw-audio/eGMD/e-gmd-v1.0.0-midi/drummer1/session1/101_dance-disco_120_beat_4-4_1.midi'"
   ]
  },
  {
   "cell_type": "code",
   "execution_count": 106,
   "metadata": {},
   "outputs": [
    {
     "data": {
      "text/plain": [
       "pretty_midi.pretty_midi.PrettyMIDI"
      ]
     },
     "execution_count": 106,
     "metadata": {},
     "output_type": "execute_result"
    }
   ],
   "source": [
    "midi_file = readGcpMidi(auth_json, bucket, gcp_filepath)\n",
    "type(midi_file)"
   ]
  },
  {
   "cell_type": "markdown",
   "metadata": {},
   "source": [
    "## Leverage GCP bucket directories to iterate through files"
   ]
  },
  {
   "cell_type": "code",
   "execution_count": 107,
   "metadata": {},
   "outputs": [],
   "source": [
    "storage_client = storage.Client.from_service_account_json(auth_json)"
   ]
  },
  {
   "cell_type": "code",
   "execution_count": 122,
   "metadata": {},
   "outputs": [
    {
     "data": {
      "text/plain": [
       "['raw-audio/eGMD/e-gmd-v1.0.0-midi/drummer1/eval_session/10_soul-groove10_102_beat_4-4_1.midi',\n",
       " 'raw-audio/eGMD/e-gmd-v1.0.0-midi/drummer1/eval_session/10_soul-groove10_102_beat_4-4_10.midi',\n",
       " 'raw-audio/eGMD/e-gmd-v1.0.0-midi/drummer1/eval_session/10_soul-groove10_102_beat_4-4_11.midi',\n",
       " 'raw-audio/eGMD/e-gmd-v1.0.0-midi/drummer1/eval_session/10_soul-groove10_102_beat_4-4_12.midi',\n",
       " 'raw-audio/eGMD/e-gmd-v1.0.0-midi/drummer1/eval_session/10_soul-groove10_102_beat_4-4_13.midi',\n",
       " 'raw-audio/eGMD/e-gmd-v1.0.0-midi/drummer1/eval_session/10_soul-groove10_102_beat_4-4_14.midi']"
      ]
     },
     "execution_count": 122,
     "metadata": {},
     "output_type": "execute_result"
    }
   ],
   "source": [
    "[blob.name for blob in storage_client.list_blobs(bucket,max_results=10,prefix='raw-audio/eGMD/') if blob.name[-5:]=='.midi']"
   ]
  },
  {
   "cell_type": "markdown",
   "metadata": {},
   "source": [
    "## Upload files to GCP\n",
    "\n",
    "**Note - it is SIGNIFICANTLY faster to use gsutil**\n",
    "\n",
    "gsutil -m cp {local_filepath} gs://{bucket}/{gcp_filepath}"
   ]
  },
  {
   "cell_type": "code",
   "execution_count": 155,
   "metadata": {},
   "outputs": [],
   "source": [
    "def writeGcpFile(auth_json, bucket, gcp_filepath, local_filepath):\n",
    "    \"\"\"\n",
    "    Writes a file to GCP bucket storage\n",
    "    \n",
    "    Inputs:\n",
    "    auth_json = str path to service account json auth file\n",
    "    bucket = str bucket name\n",
    "    gcp_filepath = str filepath to file in bucket\n",
    "    local_filepath = str filepath to local file\n",
    "    \n",
    "    Outputs:\n",
    "    prints a statement showing successful file upload to gcp_filepath\n",
    "    \"\"\"\n",
    "    from google.cloud import storage\n",
    "    \n",
    "    # create storage client\n",
    "    storage_client = storage.Client.from_service_account_json(auth_json)\n",
    "    # get bucket with name\n",
    "    bucket = storage_client.bucket(bucket)\n",
    "    # write local file to GCP\n",
    "    blob = bucket.blob(gcp_filepath)\n",
    "    \n",
    "    # use gsutil command to write file using multi-threading\n",
    "    #!gsutil -m cp {local_filepath} gs://{bucket}/{gcp_filepath}\n",
    "    \n",
    "    blob.upload_from_filename(local_filepath)\n",
    "\n",
    "    print('File {} uploaded to {}.'.format(\n",
    "            local_filepath.split('/')[-1],\n",
    "            gcp_filepath)\n",
    "         )"
   ]
  },
  {
   "cell_type": "code",
   "execution_count": 157,
   "metadata": {},
   "outputs": [
    {
     "name": "stdout",
     "output_type": "stream",
     "text": [
      "File val_x.npy uploaded to model_inputs/mdb_idmt_only/val_x.npy.\n"
     ]
    }
   ],
   "source": [
    "# upload example\n",
    "#file = 'val_x.npy'\n",
    "#local_filepath = 'C:/Users/andre/Downloads/' + file\n",
    "#gcp_filepath = 'model_inputs/mdb_idmt_only/' + file\n",
    "\n",
    "\n",
    "#writeGcpFile(auth_json, bucket, gcp_filepath, local_filepath)"
   ]
  }
 ],
 "metadata": {
  "kernelspec": {
   "display_name": "Python 3",
   "language": "python",
   "name": "python3"
  },
  "language_info": {
   "codemirror_mode": {
    "name": "ipython",
    "version": 3
   },
   "file_extension": ".py",
   "mimetype": "text/x-python",
   "name": "python",
   "nbconvert_exporter": "python",
   "pygments_lexer": "ipython3",
   "version": "3.5.3"
  }
 },
 "nbformat": 4,
 "nbformat_minor": 2
}
